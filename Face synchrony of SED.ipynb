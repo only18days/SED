{
 "cells": [
  {
   "cell_type": "code",
   "execution_count": 163,
   "id": "b4278664",
   "metadata": {},
   "outputs": [],
   "source": [
    "%matplotlib inline\n",
    "import numpy as np\n",
    "import pandas as pd\n",
    "import os\n",
    "import glob\n",
    "import seaborn as sns\n",
    "from joblib import Parallel, delayed\n",
    "import matplotlib.pyplot as plt\n",
    "from scipy.stats import pearsonr, spearmanr\n",
    "from sklearn.inspection import permutation_importance\n",
    "from nltools.stats import isc, circle_shift\n",
    "from sklearn.linear_model import LogisticRegression, LogisticRegressionCV, LassoCV, Lasso, RidgeCV, Ridge, LinearRegression, RidgeClassifierCV, RidgeClassifier\n",
    "from sklearn.svm import SVC, LinearSVC, SVR, LinearSVR\n",
    "from sklearn.model_selection import train_test_split, KFold\n",
    "from sklearn.model_selection import validation_curve, cross_val_score\n",
    "from sklearn.model_selection import LeaveOneGroupOut, GridSearchCV, StratifiedShuffleSplit, GroupKFold\n",
    "from sklearn.metrics import confusion_matrix\n",
    "from sklearn.preprocessing import StandardScaler\n",
    "from sklearn.model_selection import LeaveOneOut, permutation_test_score\n",
    "from sklearn.pipeline import Pipeline\n",
    "import scipy.spatial \n",
    "from nltools.stats import _calc_pvalue, fisher_r_to_z, fisher_z_to_r, fdr\n",
    "from nltools.utils import check_random_state\n",
    "from scipy import stats\n",
    "from scipy.stats import ttest_ind\n",
    "from sklearn.base import clone\n",
    "from sklearn.model_selection import RepeatedKFold\n",
    "from scipy import spatial\n",
    "from tqdm import tqdm, trange\n",
    "\n",
    "# from feat.plotting import animate_face\n",
    "# from feat import Fex\n",
    "# from feat.plotting import draw_lineface, draw_muscles, draw_vectorfield, plot_face, predict\n",
    "# pd.set_option('Max_rows', 10)\n",
    "MAX_INT = np.iinfo(np.int32).max\n",
    "sns.set_theme(style='white')\n",
    "\n",
    "fpath = '/Users/chenyuchieh/Desktop/SED_facial'"
   ]
  },
  {
   "cell_type": "code",
   "execution_count": 164,
   "id": "dde04ec0",
   "metadata": {},
   "outputs": [],
   "source": [
    "sub = pd.read_csv((os.path.join(fpath, 'Data', 'SED', 'SED_subject list.csv')))"
   ]
  },
  {
   "cell_type": "code",
   "execution_count": 165,
   "id": "a57c3fbf",
   "metadata": {},
   "outputs": [
    {
     "data": {
      "text/html": [
       "<div>\n",
       "<style scoped>\n",
       "    .dataframe tbody tr th:only-of-type {\n",
       "        vertical-align: middle;\n",
       "    }\n",
       "\n",
       "    .dataframe tbody tr th {\n",
       "        vertical-align: top;\n",
       "    }\n",
       "\n",
       "    .dataframe thead th {\n",
       "        text-align: right;\n",
       "    }\n",
       "</style>\n",
       "<table border=\"1\" class=\"dataframe\">\n",
       "  <thead>\n",
       "    <tr style=\"text-align: right;\">\n",
       "      <th></th>\n",
       "      <th>ID</th>\n",
       "      <th>group</th>\n",
       "      <th>att</th>\n",
       "      <th>facial</th>\n",
       "      <th>dyads</th>\n",
       "      <th>note</th>\n",
       "    </tr>\n",
       "  </thead>\n",
       "  <tbody>\n",
       "    <tr>\n",
       "      <th>0</th>\n",
       "      <td>SED001</td>\n",
       "      <td>SS001</td>\n",
       "      <td>S</td>\n",
       "      <td>Y</td>\n",
       "      <td>Y</td>\n",
       "      <td>NaN</td>\n",
       "    </tr>\n",
       "    <tr>\n",
       "      <th>1</th>\n",
       "      <td>SED002</td>\n",
       "      <td>SS001</td>\n",
       "      <td>S</td>\n",
       "      <td>Y</td>\n",
       "      <td>Y</td>\n",
       "      <td>NaN</td>\n",
       "    </tr>\n",
       "    <tr>\n",
       "      <th>2</th>\n",
       "      <td>SED003</td>\n",
       "      <td>SS002</td>\n",
       "      <td>S</td>\n",
       "      <td>Y</td>\n",
       "      <td>Y</td>\n",
       "      <td>NaN</td>\n",
       "    </tr>\n",
       "    <tr>\n",
       "      <th>3</th>\n",
       "      <td>SED004</td>\n",
       "      <td>SS002</td>\n",
       "      <td>S</td>\n",
       "      <td>Y</td>\n",
       "      <td>Y</td>\n",
       "      <td>NaN</td>\n",
       "    </tr>\n",
       "    <tr>\n",
       "      <th>4</th>\n",
       "      <td>SED005</td>\n",
       "      <td>SS003</td>\n",
       "      <td>S</td>\n",
       "      <td>Y</td>\n",
       "      <td>Y</td>\n",
       "      <td>NaN</td>\n",
       "    </tr>\n",
       "    <tr>\n",
       "      <th>5</th>\n",
       "      <td>SED006</td>\n",
       "      <td>SS003</td>\n",
       "      <td>S</td>\n",
       "      <td>Y</td>\n",
       "      <td>Y</td>\n",
       "      <td>NaN</td>\n",
       "    </tr>\n",
       "    <tr>\n",
       "      <th>6</th>\n",
       "      <td>SED007</td>\n",
       "      <td>SS004</td>\n",
       "      <td>S</td>\n",
       "      <td>Y</td>\n",
       "      <td>Y</td>\n",
       "      <td>NaN</td>\n",
       "    </tr>\n",
       "    <tr>\n",
       "      <th>7</th>\n",
       "      <td>SED008</td>\n",
       "      <td>SS004</td>\n",
       "      <td>S</td>\n",
       "      <td>Y</td>\n",
       "      <td>Y</td>\n",
       "      <td>NaN</td>\n",
       "    </tr>\n",
       "    <tr>\n",
       "      <th>8</th>\n",
       "      <td>SED009</td>\n",
       "      <td>SS005</td>\n",
       "      <td>S</td>\n",
       "      <td>Y</td>\n",
       "      <td>Y</td>\n",
       "      <td>NaN</td>\n",
       "    </tr>\n",
       "    <tr>\n",
       "      <th>9</th>\n",
       "      <td>SED010</td>\n",
       "      <td>SS005</td>\n",
       "      <td>S</td>\n",
       "      <td>Y</td>\n",
       "      <td>Y</td>\n",
       "      <td>NaN</td>\n",
       "    </tr>\n",
       "    <tr>\n",
       "      <th>10</th>\n",
       "      <td>SED011</td>\n",
       "      <td>SS006</td>\n",
       "      <td>S</td>\n",
       "      <td>Y</td>\n",
       "      <td>Y</td>\n",
       "      <td>NaN</td>\n",
       "    </tr>\n",
       "    <tr>\n",
       "      <th>11</th>\n",
       "      <td>SED012</td>\n",
       "      <td>SS006</td>\n",
       "      <td>S</td>\n",
       "      <td>Y</td>\n",
       "      <td>Y</td>\n",
       "      <td>NaN</td>\n",
       "    </tr>\n",
       "    <tr>\n",
       "      <th>12</th>\n",
       "      <td>SED013</td>\n",
       "      <td>SS007</td>\n",
       "      <td>S</td>\n",
       "      <td>Y</td>\n",
       "      <td>Y</td>\n",
       "      <td>NaN</td>\n",
       "    </tr>\n",
       "    <tr>\n",
       "      <th>13</th>\n",
       "      <td>SED014</td>\n",
       "      <td>SS007</td>\n",
       "      <td>S</td>\n",
       "      <td>Y</td>\n",
       "      <td>Y</td>\n",
       "      <td>NaN</td>\n",
       "    </tr>\n",
       "    <tr>\n",
       "      <th>14</th>\n",
       "      <td>SED015</td>\n",
       "      <td>SS008</td>\n",
       "      <td>S</td>\n",
       "      <td>Y</td>\n",
       "      <td>Y</td>\n",
       "      <td>NaN</td>\n",
       "    </tr>\n",
       "    <tr>\n",
       "      <th>15</th>\n",
       "      <td>SED016</td>\n",
       "      <td>SS008</td>\n",
       "      <td>S</td>\n",
       "      <td>Y</td>\n",
       "      <td>Y</td>\n",
       "      <td>NaN</td>\n",
       "    </tr>\n",
       "    <tr>\n",
       "      <th>16</th>\n",
       "      <td>SED017</td>\n",
       "      <td>SS009</td>\n",
       "      <td>S</td>\n",
       "      <td>Y</td>\n",
       "      <td>Y</td>\n",
       "      <td>NaN</td>\n",
       "    </tr>\n",
       "    <tr>\n",
       "      <th>17</th>\n",
       "      <td>SED018</td>\n",
       "      <td>SS009</td>\n",
       "      <td>S</td>\n",
       "      <td>Y</td>\n",
       "      <td>Y</td>\n",
       "      <td>NaN</td>\n",
       "    </tr>\n",
       "    <tr>\n",
       "      <th>18</th>\n",
       "      <td>SED019</td>\n",
       "      <td>SS010</td>\n",
       "      <td>S</td>\n",
       "      <td>Y</td>\n",
       "      <td>Y</td>\n",
       "      <td>NaN</td>\n",
       "    </tr>\n",
       "    <tr>\n",
       "      <th>19</th>\n",
       "      <td>SED020</td>\n",
       "      <td>SS010</td>\n",
       "      <td>S</td>\n",
       "      <td>Y</td>\n",
       "      <td>Y</td>\n",
       "      <td>NaN</td>\n",
       "    </tr>\n",
       "    <tr>\n",
       "      <th>20</th>\n",
       "      <td>SED021</td>\n",
       "      <td>SS011</td>\n",
       "      <td>S</td>\n",
       "      <td>Y</td>\n",
       "      <td>Y</td>\n",
       "      <td>NaN</td>\n",
       "    </tr>\n",
       "    <tr>\n",
       "      <th>21</th>\n",
       "      <td>SED022</td>\n",
       "      <td>SS011</td>\n",
       "      <td>S</td>\n",
       "      <td>Y</td>\n",
       "      <td>Y</td>\n",
       "      <td>NaN</td>\n",
       "    </tr>\n",
       "    <tr>\n",
       "      <th>22</th>\n",
       "      <td>SED023</td>\n",
       "      <td>SS012</td>\n",
       "      <td>S</td>\n",
       "      <td>Y</td>\n",
       "      <td>Y</td>\n",
       "      <td>NaN</td>\n",
       "    </tr>\n",
       "    <tr>\n",
       "      <th>23</th>\n",
       "      <td>SED024</td>\n",
       "      <td>SS012</td>\n",
       "      <td>S</td>\n",
       "      <td>Y</td>\n",
       "      <td>Y</td>\n",
       "      <td>NaN</td>\n",
       "    </tr>\n",
       "    <tr>\n",
       "      <th>24</th>\n",
       "      <td>SED025</td>\n",
       "      <td>SS013</td>\n",
       "      <td>S</td>\n",
       "      <td>Y</td>\n",
       "      <td>Y</td>\n",
       "      <td>NaN</td>\n",
       "    </tr>\n",
       "    <tr>\n",
       "      <th>25</th>\n",
       "      <td>SED026</td>\n",
       "      <td>SS013</td>\n",
       "      <td>S</td>\n",
       "      <td>Y</td>\n",
       "      <td>Y</td>\n",
       "      <td>NaN</td>\n",
       "    </tr>\n",
       "    <tr>\n",
       "      <th>26</th>\n",
       "      <td>SED027</td>\n",
       "      <td>SS014</td>\n",
       "      <td>S</td>\n",
       "      <td>Y</td>\n",
       "      <td>Y</td>\n",
       "      <td>NaN</td>\n",
       "    </tr>\n",
       "    <tr>\n",
       "      <th>27</th>\n",
       "      <td>SED028</td>\n",
       "      <td>SS014</td>\n",
       "      <td>S</td>\n",
       "      <td>Y</td>\n",
       "      <td>Y</td>\n",
       "      <td>NaN</td>\n",
       "    </tr>\n",
       "    <tr>\n",
       "      <th>28</th>\n",
       "      <td>SED029</td>\n",
       "      <td>SS015</td>\n",
       "      <td>S</td>\n",
       "      <td>Y</td>\n",
       "      <td>Y</td>\n",
       "      <td>NaN</td>\n",
       "    </tr>\n",
       "    <tr>\n",
       "      <th>29</th>\n",
       "      <td>SED030</td>\n",
       "      <td>SS015</td>\n",
       "      <td>S</td>\n",
       "      <td>Y</td>\n",
       "      <td>Y</td>\n",
       "      <td>NaN</td>\n",
       "    </tr>\n",
       "    <tr>\n",
       "      <th>34</th>\n",
       "      <td>SED035</td>\n",
       "      <td>SS018</td>\n",
       "      <td>S</td>\n",
       "      <td>Y</td>\n",
       "      <td>Y</td>\n",
       "      <td>NaN</td>\n",
       "    </tr>\n",
       "    <tr>\n",
       "      <th>35</th>\n",
       "      <td>SED036</td>\n",
       "      <td>SS018</td>\n",
       "      <td>S</td>\n",
       "      <td>Y</td>\n",
       "      <td>Y</td>\n",
       "      <td>NaN</td>\n",
       "    </tr>\n",
       "    <tr>\n",
       "      <th>36</th>\n",
       "      <td>SED037</td>\n",
       "      <td>SS019</td>\n",
       "      <td>S</td>\n",
       "      <td>Y</td>\n",
       "      <td>Y</td>\n",
       "      <td>NaN</td>\n",
       "    </tr>\n",
       "    <tr>\n",
       "      <th>37</th>\n",
       "      <td>SED038</td>\n",
       "      <td>SS019</td>\n",
       "      <td>S</td>\n",
       "      <td>Y</td>\n",
       "      <td>Y</td>\n",
       "      <td>NaN</td>\n",
       "    </tr>\n",
       "    <tr>\n",
       "      <th>38</th>\n",
       "      <td>SED039</td>\n",
       "      <td>SS020</td>\n",
       "      <td>S</td>\n",
       "      <td>Y</td>\n",
       "      <td>Y</td>\n",
       "      <td>NaN</td>\n",
       "    </tr>\n",
       "    <tr>\n",
       "      <th>39</th>\n",
       "      <td>SED040</td>\n",
       "      <td>SS020</td>\n",
       "      <td>S</td>\n",
       "      <td>Y</td>\n",
       "      <td>Y</td>\n",
       "      <td>NaN</td>\n",
       "    </tr>\n",
       "    <tr>\n",
       "      <th>42</th>\n",
       "      <td>SED043</td>\n",
       "      <td>SS022</td>\n",
       "      <td>S</td>\n",
       "      <td>Y</td>\n",
       "      <td>Y</td>\n",
       "      <td>NaN</td>\n",
       "    </tr>\n",
       "    <tr>\n",
       "      <th>43</th>\n",
       "      <td>SED044</td>\n",
       "      <td>SS022</td>\n",
       "      <td>S</td>\n",
       "      <td>Y</td>\n",
       "      <td>Y</td>\n",
       "      <td>NaN</td>\n",
       "    </tr>\n",
       "    <tr>\n",
       "      <th>44</th>\n",
       "      <td>SED045</td>\n",
       "      <td>SS023</td>\n",
       "      <td>S</td>\n",
       "      <td>Y</td>\n",
       "      <td>Y</td>\n",
       "      <td>NaN</td>\n",
       "    </tr>\n",
       "    <tr>\n",
       "      <th>45</th>\n",
       "      <td>SED046</td>\n",
       "      <td>SS023</td>\n",
       "      <td>S</td>\n",
       "      <td>Y</td>\n",
       "      <td>Y</td>\n",
       "      <td>NaN</td>\n",
       "    </tr>\n",
       "    <tr>\n",
       "      <th>48</th>\n",
       "      <td>SED049</td>\n",
       "      <td>SS025</td>\n",
       "      <td>S</td>\n",
       "      <td>Y</td>\n",
       "      <td>Y</td>\n",
       "      <td>NaN</td>\n",
       "    </tr>\n",
       "    <tr>\n",
       "      <th>49</th>\n",
       "      <td>SED050</td>\n",
       "      <td>SS025</td>\n",
       "      <td>S</td>\n",
       "      <td>Y</td>\n",
       "      <td>Y</td>\n",
       "      <td>NaN</td>\n",
       "    </tr>\n",
       "    <tr>\n",
       "      <th>56</th>\n",
       "      <td>SED059</td>\n",
       "      <td>SS030</td>\n",
       "      <td>S</td>\n",
       "      <td>Y</td>\n",
       "      <td>Y</td>\n",
       "      <td>NaN</td>\n",
       "    </tr>\n",
       "    <tr>\n",
       "      <th>57</th>\n",
       "      <td>SED060</td>\n",
       "      <td>SS030</td>\n",
       "      <td>S</td>\n",
       "      <td>Y</td>\n",
       "      <td>Y</td>\n",
       "      <td>NaN</td>\n",
       "    </tr>\n",
       "  </tbody>\n",
       "</table>\n",
       "</div>"
      ],
      "text/plain": [
       "        ID  group att facial dyads note\n",
       "0   SED001  SS001   S      Y     Y  NaN\n",
       "1   SED002  SS001   S      Y     Y  NaN\n",
       "2   SED003  SS002   S      Y     Y  NaN\n",
       "3   SED004  SS002   S      Y     Y  NaN\n",
       "4   SED005  SS003   S      Y     Y  NaN\n",
       "5   SED006  SS003   S      Y     Y  NaN\n",
       "6   SED007  SS004   S      Y     Y  NaN\n",
       "7   SED008  SS004   S      Y     Y  NaN\n",
       "8   SED009  SS005   S      Y     Y  NaN\n",
       "9   SED010  SS005   S      Y     Y  NaN\n",
       "10  SED011  SS006   S      Y     Y  NaN\n",
       "11  SED012  SS006   S      Y     Y  NaN\n",
       "12  SED013  SS007   S      Y     Y  NaN\n",
       "13  SED014  SS007   S      Y     Y  NaN\n",
       "14  SED015  SS008   S      Y     Y  NaN\n",
       "15  SED016  SS008   S      Y     Y  NaN\n",
       "16  SED017  SS009   S      Y     Y  NaN\n",
       "17  SED018  SS009   S      Y     Y  NaN\n",
       "18  SED019  SS010   S      Y     Y  NaN\n",
       "19  SED020  SS010   S      Y     Y  NaN\n",
       "20  SED021  SS011   S      Y     Y  NaN\n",
       "21  SED022  SS011   S      Y     Y  NaN\n",
       "22  SED023  SS012   S      Y     Y  NaN\n",
       "23  SED024  SS012   S      Y     Y  NaN\n",
       "24  SED025  SS013   S      Y     Y  NaN\n",
       "25  SED026  SS013   S      Y     Y  NaN\n",
       "26  SED027  SS014   S      Y     Y  NaN\n",
       "27  SED028  SS014   S      Y     Y  NaN\n",
       "28  SED029  SS015   S      Y     Y  NaN\n",
       "29  SED030  SS015   S      Y     Y  NaN\n",
       "34  SED035  SS018   S      Y     Y  NaN\n",
       "35  SED036  SS018   S      Y     Y  NaN\n",
       "36  SED037  SS019   S      Y     Y  NaN\n",
       "37  SED038  SS019   S      Y     Y  NaN\n",
       "38  SED039  SS020   S      Y     Y  NaN\n",
       "39  SED040  SS020   S      Y     Y  NaN\n",
       "42  SED043  SS022   S      Y     Y  NaN\n",
       "43  SED044  SS022   S      Y     Y  NaN\n",
       "44  SED045  SS023   S      Y     Y  NaN\n",
       "45  SED046  SS023   S      Y     Y  NaN\n",
       "48  SED049  SS025   S      Y     Y  NaN\n",
       "49  SED050  SS025   S      Y     Y  NaN\n",
       "56  SED059  SS030   S      Y     Y  NaN\n",
       "57  SED060  SS030   S      Y     Y  NaN"
      ]
     },
     "execution_count": 165,
     "metadata": {},
     "output_type": "execute_result"
    }
   ],
   "source": [
    "# Drop the subject without facial data and grouping\n",
    "sub.drop(sub.index[sub['dyads'] == 'N'], inplace=True)\n",
    "sub"
   ]
  },
  {
   "cell_type": "code",
   "execution_count": null,
   "id": "6234776e",
   "metadata": {},
   "outputs": [],
   "source": []
  },
  {
   "cell_type": "code",
   "execution_count": 166,
   "id": "1b9661cf",
   "metadata": {},
   "outputs": [
    {
     "data": {
      "text/plain": [
       "['/Users/chenyuchieh/Desktop/SED_facial/Data/SED/emotion_interpo_fps1/SED001.csv',\n",
       " '/Users/chenyuchieh/Desktop/SED_facial/Data/SED/emotion_interpo_fps1/SED002.csv',\n",
       " '/Users/chenyuchieh/Desktop/SED_facial/Data/SED/emotion_interpo_fps1/SED003.csv',\n",
       " '/Users/chenyuchieh/Desktop/SED_facial/Data/SED/emotion_interpo_fps1/SED004.csv',\n",
       " '/Users/chenyuchieh/Desktop/SED_facial/Data/SED/emotion_interpo_fps1/SED005.csv',\n",
       " '/Users/chenyuchieh/Desktop/SED_facial/Data/SED/emotion_interpo_fps1/SED006.csv',\n",
       " '/Users/chenyuchieh/Desktop/SED_facial/Data/SED/emotion_interpo_fps1/SED007.csv',\n",
       " '/Users/chenyuchieh/Desktop/SED_facial/Data/SED/emotion_interpo_fps1/SED008.csv',\n",
       " '/Users/chenyuchieh/Desktop/SED_facial/Data/SED/emotion_interpo_fps1/SED009.csv',\n",
       " '/Users/chenyuchieh/Desktop/SED_facial/Data/SED/emotion_interpo_fps1/SED010.csv',\n",
       " '/Users/chenyuchieh/Desktop/SED_facial/Data/SED/emotion_interpo_fps1/SED011.csv',\n",
       " '/Users/chenyuchieh/Desktop/SED_facial/Data/SED/emotion_interpo_fps1/SED012.csv',\n",
       " '/Users/chenyuchieh/Desktop/SED_facial/Data/SED/emotion_interpo_fps1/SED013.csv',\n",
       " '/Users/chenyuchieh/Desktop/SED_facial/Data/SED/emotion_interpo_fps1/SED014.csv',\n",
       " '/Users/chenyuchieh/Desktop/SED_facial/Data/SED/emotion_interpo_fps1/SED015.csv',\n",
       " '/Users/chenyuchieh/Desktop/SED_facial/Data/SED/emotion_interpo_fps1/SED016.csv',\n",
       " '/Users/chenyuchieh/Desktop/SED_facial/Data/SED/emotion_interpo_fps1/SED017.csv',\n",
       " '/Users/chenyuchieh/Desktop/SED_facial/Data/SED/emotion_interpo_fps1/SED018.csv',\n",
       " '/Users/chenyuchieh/Desktop/SED_facial/Data/SED/emotion_interpo_fps1/SED019.csv',\n",
       " '/Users/chenyuchieh/Desktop/SED_facial/Data/SED/emotion_interpo_fps1/SED020.csv',\n",
       " '/Users/chenyuchieh/Desktop/SED_facial/Data/SED/emotion_interpo_fps1/SED021.csv',\n",
       " '/Users/chenyuchieh/Desktop/SED_facial/Data/SED/emotion_interpo_fps1/SED022.csv',\n",
       " '/Users/chenyuchieh/Desktop/SED_facial/Data/SED/emotion_interpo_fps1/SED023.csv',\n",
       " '/Users/chenyuchieh/Desktop/SED_facial/Data/SED/emotion_interpo_fps1/SED024.csv',\n",
       " '/Users/chenyuchieh/Desktop/SED_facial/Data/SED/emotion_interpo_fps1/SED025.csv',\n",
       " '/Users/chenyuchieh/Desktop/SED_facial/Data/SED/emotion_interpo_fps1/SED026.csv',\n",
       " '/Users/chenyuchieh/Desktop/SED_facial/Data/SED/emotion_interpo_fps1/SED027.csv',\n",
       " '/Users/chenyuchieh/Desktop/SED_facial/Data/SED/emotion_interpo_fps1/SED028.csv',\n",
       " '/Users/chenyuchieh/Desktop/SED_facial/Data/SED/emotion_interpo_fps1/SED029.csv',\n",
       " '/Users/chenyuchieh/Desktop/SED_facial/Data/SED/emotion_interpo_fps1/SED030.csv',\n",
       " '/Users/chenyuchieh/Desktop/SED_facial/Data/SED/emotion_interpo_fps1/SED031.csv',\n",
       " '/Users/chenyuchieh/Desktop/SED_facial/Data/SED/emotion_interpo_fps1/SED032.csv',\n",
       " '/Users/chenyuchieh/Desktop/SED_facial/Data/SED/emotion_interpo_fps1/SED035.csv',\n",
       " '/Users/chenyuchieh/Desktop/SED_facial/Data/SED/emotion_interpo_fps1/SED036.csv',\n",
       " '/Users/chenyuchieh/Desktop/SED_facial/Data/SED/emotion_interpo_fps1/SED037.csv',\n",
       " '/Users/chenyuchieh/Desktop/SED_facial/Data/SED/emotion_interpo_fps1/SED038.csv',\n",
       " '/Users/chenyuchieh/Desktop/SED_facial/Data/SED/emotion_interpo_fps1/SED039.csv',\n",
       " '/Users/chenyuchieh/Desktop/SED_facial/Data/SED/emotion_interpo_fps1/SED040.csv',\n",
       " '/Users/chenyuchieh/Desktop/SED_facial/Data/SED/emotion_interpo_fps1/SED041.csv',\n",
       " '/Users/chenyuchieh/Desktop/SED_facial/Data/SED/emotion_interpo_fps1/SED043.csv',\n",
       " '/Users/chenyuchieh/Desktop/SED_facial/Data/SED/emotion_interpo_fps1/SED044.csv',\n",
       " '/Users/chenyuchieh/Desktop/SED_facial/Data/SED/emotion_interpo_fps1/SED045.csv',\n",
       " '/Users/chenyuchieh/Desktop/SED_facial/Data/SED/emotion_interpo_fps1/SED046.csv',\n",
       " '/Users/chenyuchieh/Desktop/SED_facial/Data/SED/emotion_interpo_fps1/SED048.csv',\n",
       " '/Users/chenyuchieh/Desktop/SED_facial/Data/SED/emotion_interpo_fps1/SED049.csv',\n",
       " '/Users/chenyuchieh/Desktop/SED_facial/Data/SED/emotion_interpo_fps1/SED050.csv',\n",
       " '/Users/chenyuchieh/Desktop/SED_facial/Data/SED/emotion_interpo_fps1/SED052.csv',\n",
       " '/Users/chenyuchieh/Desktop/SED_facial/Data/SED/emotion_interpo_fps1/SED059.csv',\n",
       " '/Users/chenyuchieh/Desktop/SED_facial/Data/SED/emotion_interpo_fps1/SED060.csv',\n",
       " '/Users/chenyuchieh/Desktop/SED_facial/Data/SED/emotion_interpo_fps1/SED061.csv']"
      ]
     },
     "execution_count": 166,
     "metadata": {},
     "output_type": "execute_result"
    }
   ],
   "source": [
    "sub_paths = sorted(glob.glob(os.path.join(fpath, 'Data','SED', 'emotion_interpo_fps1', '*.csv')))\n",
    "sub_paths"
   ]
  },
  {
   "cell_type": "code",
   "execution_count": 167,
   "id": "42c8bc0b",
   "metadata": {},
   "outputs": [
    {
     "data": {
      "text/plain": [
       "['SED001',\n",
       " 'SED002',\n",
       " 'SED003',\n",
       " 'SED004',\n",
       " 'SED005',\n",
       " 'SED006',\n",
       " 'SED007',\n",
       " 'SED008',\n",
       " 'SED009',\n",
       " 'SED010',\n",
       " 'SED011',\n",
       " 'SED012',\n",
       " 'SED013',\n",
       " 'SED014',\n",
       " 'SED015',\n",
       " 'SED016',\n",
       " 'SED017',\n",
       " 'SED018',\n",
       " 'SED019',\n",
       " 'SED020',\n",
       " 'SED021',\n",
       " 'SED022',\n",
       " 'SED023',\n",
       " 'SED024',\n",
       " 'SED025',\n",
       " 'SED026',\n",
       " 'SED027',\n",
       " 'SED028',\n",
       " 'SED029',\n",
       " 'SED030',\n",
       " 'SED035',\n",
       " 'SED036',\n",
       " 'SED037',\n",
       " 'SED038',\n",
       " 'SED039',\n",
       " 'SED040',\n",
       " 'SED043',\n",
       " 'SED044',\n",
       " 'SED045',\n",
       " 'SED046',\n",
       " 'SED049',\n",
       " 'SED050',\n",
       " 'SED059',\n",
       " 'SED060']"
      ]
     },
     "execution_count": 167,
     "metadata": {},
     "output_type": "execute_result"
    }
   ],
   "source": [
    "sub_list = []\n",
    "for i in sub_paths:\n",
    "    sub_id = i.split('/')[-1].split('.')[0]\n",
    "    if sub_id in list(sub['ID']):\n",
    "#         print(sub_id)\n",
    "        sub_list.append(sub_id)\n",
    "sub_list"
   ]
  },
  {
   "cell_type": "code",
   "execution_count": 168,
   "id": "fc2a36f7",
   "metadata": {},
   "outputs": [
    {
     "data": {
      "text/plain": [
       "['SS001',\n",
       " 'SS002',\n",
       " 'SS003',\n",
       " 'SS004',\n",
       " 'SS005',\n",
       " 'SS006',\n",
       " 'SS007',\n",
       " 'SS008',\n",
       " 'SS009',\n",
       " 'SS010',\n",
       " 'SS011',\n",
       " 'SS012',\n",
       " 'SS013',\n",
       " 'SS014',\n",
       " 'SS015',\n",
       " 'SS018',\n",
       " 'SS019',\n",
       " 'SS020',\n",
       " 'SS022',\n",
       " 'SS023',\n",
       " 'SS025',\n",
       " 'SS030']"
      ]
     },
     "execution_count": 168,
     "metadata": {},
     "output_type": "execute_result"
    }
   ],
   "source": [
    "group_list = []\n",
    "for i in sub_paths:\n",
    "    sub_id = i.split('/')[-1].split('.')[0]\n",
    "    if sub_id in sub_list:\n",
    "        group_id = sub[sub['ID'] == str(sub_id)]['group'].values[0]\n",
    "        if group_id not in group_list:\n",
    "            group_list.append(group_id)\n",
    "group_list"
   ]
  },
  {
   "cell_type": "markdown",
   "id": "907740b8",
   "metadata": {},
   "source": [
    "# Real Dyad (RD) ISC "
   ]
  },
  {
   "cell_type": "code",
   "execution_count": 169,
   "id": "4c1c75e2",
   "metadata": {},
   "outputs": [],
   "source": [
    "# sub[sub['ID'] == str('SED001')]"
   ]
  },
  {
   "cell_type": "code",
   "execution_count": 170,
   "id": "169d726b",
   "metadata": {},
   "outputs": [
    {
     "data": {
      "text/plain": [
       "{'SS001': [0, 1], 'SS002': [2, 3], 'SS003': [4, 5], 'SS004': [6, 7], 'SS005': [8, 9], 'SS006': [10, 11], 'SS007': [12, 13], 'SS008': [14, 15], 'SS009': [16, 17], 'SS010': [18, 19], 'SS011': [20, 21], 'SS012': [22, 23], 'SS013': [24, 25], 'SS014': [26, 27], 'SS015': [28, 29], 'SS018': [34, 35], 'SS019': [36, 37], 'SS020': [38, 39], 'SS022': [42, 43], 'SS023': [44, 45], 'SS025': [48, 49], 'SS030': [56, 57]}"
      ]
     },
     "execution_count": 170,
     "metadata": {},
     "output_type": "execute_result"
    }
   ],
   "source": [
    "dyad = sub.groupby('group')\n",
    "dyad.groups"
   ]
  },
  {
   "cell_type": "code",
   "execution_count": 171,
   "id": "3a9f2980",
   "metadata": {},
   "outputs": [],
   "source": [
    "# dyad.get_group(\"SS001\")"
   ]
  },
  {
   "cell_type": "markdown",
   "id": "5846f4dd",
   "metadata": {},
   "source": [
    "## Anger "
   ]
  },
  {
   "cell_type": "code",
   "execution_count": 172,
   "id": "9aaad1e3",
   "metadata": {
    "scrolled": false
   },
   "outputs": [
    {
     "name": "stderr",
     "output_type": "stream",
     "text": [
      "  0%|          | 0/22 [00:00<?, ?it/s]<ipython-input-172-405845dd64cd>:16: FutureWarning: The frame.append method is deprecated and will be removed from pandas in a future version. Use pandas.concat instead.\n",
      "  df = df.append(emotion_tseries_list[j]['anger'])\n",
      "<ipython-input-172-405845dd64cd>:16: FutureWarning: The frame.append method is deprecated and will be removed from pandas in a future version. Use pandas.concat instead.\n",
      "  df = df.append(emotion_tseries_list[j]['anger'])\n",
      "<ipython-input-172-405845dd64cd>:16: FutureWarning: The frame.append method is deprecated and will be removed from pandas in a future version. Use pandas.concat instead.\n",
      "  df = df.append(emotion_tseries_list[j]['anger'])\n",
      "<ipython-input-172-405845dd64cd>:16: FutureWarning: The frame.append method is deprecated and will be removed from pandas in a future version. Use pandas.concat instead.\n",
      "  df = df.append(emotion_tseries_list[j]['anger'])\n",
      "<ipython-input-172-405845dd64cd>:16: FutureWarning: The frame.append method is deprecated and will be removed from pandas in a future version. Use pandas.concat instead.\n",
      "  df = df.append(emotion_tseries_list[j]['anger'])\n",
      "<ipython-input-172-405845dd64cd>:16: FutureWarning: The frame.append method is deprecated and will be removed from pandas in a future version. Use pandas.concat instead.\n",
      "  df = df.append(emotion_tseries_list[j]['anger'])\n",
      "<ipython-input-172-405845dd64cd>:16: FutureWarning: The frame.append method is deprecated and will be removed from pandas in a future version. Use pandas.concat instead.\n",
      "  df = df.append(emotion_tseries_list[j]['anger'])\n",
      "<ipython-input-172-405845dd64cd>:16: FutureWarning: The frame.append method is deprecated and will be removed from pandas in a future version. Use pandas.concat instead.\n",
      "  df = df.append(emotion_tseries_list[j]['anger'])\n",
      "<ipython-input-172-405845dd64cd>:16: FutureWarning: The frame.append method is deprecated and will be removed from pandas in a future version. Use pandas.concat instead.\n",
      "  df = df.append(emotion_tseries_list[j]['anger'])\n",
      "<ipython-input-172-405845dd64cd>:16: FutureWarning: The frame.append method is deprecated and will be removed from pandas in a future version. Use pandas.concat instead.\n",
      "  df = df.append(emotion_tseries_list[j]['anger'])\n",
      "<ipython-input-172-405845dd64cd>:16: FutureWarning: The frame.append method is deprecated and will be removed from pandas in a future version. Use pandas.concat instead.\n",
      "  df = df.append(emotion_tseries_list[j]['anger'])\n",
      "<ipython-input-172-405845dd64cd>:16: FutureWarning: The frame.append method is deprecated and will be removed from pandas in a future version. Use pandas.concat instead.\n",
      "  df = df.append(emotion_tseries_list[j]['anger'])\n",
      "<ipython-input-172-405845dd64cd>:16: FutureWarning: The frame.append method is deprecated and will be removed from pandas in a future version. Use pandas.concat instead.\n",
      "  df = df.append(emotion_tseries_list[j]['anger'])\n",
      "<ipython-input-172-405845dd64cd>:16: FutureWarning: The frame.append method is deprecated and will be removed from pandas in a future version. Use pandas.concat instead.\n",
      "  df = df.append(emotion_tseries_list[j]['anger'])\n",
      " 32%|███▏      | 7/22 [00:00<00:00, 64.28it/s]<ipython-input-172-405845dd64cd>:16: FutureWarning: The frame.append method is deprecated and will be removed from pandas in a future version. Use pandas.concat instead.\n",
      "  df = df.append(emotion_tseries_list[j]['anger'])\n",
      "<ipython-input-172-405845dd64cd>:16: FutureWarning: The frame.append method is deprecated and will be removed from pandas in a future version. Use pandas.concat instead.\n",
      "  df = df.append(emotion_tseries_list[j]['anger'])\n",
      "<ipython-input-172-405845dd64cd>:16: FutureWarning: The frame.append method is deprecated and will be removed from pandas in a future version. Use pandas.concat instead.\n",
      "  df = df.append(emotion_tseries_list[j]['anger'])\n",
      "<ipython-input-172-405845dd64cd>:16: FutureWarning: The frame.append method is deprecated and will be removed from pandas in a future version. Use pandas.concat instead.\n",
      "  df = df.append(emotion_tseries_list[j]['anger'])\n",
      "<ipython-input-172-405845dd64cd>:16: FutureWarning: The frame.append method is deprecated and will be removed from pandas in a future version. Use pandas.concat instead.\n",
      "  df = df.append(emotion_tseries_list[j]['anger'])\n",
      "<ipython-input-172-405845dd64cd>:16: FutureWarning: The frame.append method is deprecated and will be removed from pandas in a future version. Use pandas.concat instead.\n",
      "  df = df.append(emotion_tseries_list[j]['anger'])\n",
      "<ipython-input-172-405845dd64cd>:16: FutureWarning: The frame.append method is deprecated and will be removed from pandas in a future version. Use pandas.concat instead.\n",
      "  df = df.append(emotion_tseries_list[j]['anger'])\n",
      "<ipython-input-172-405845dd64cd>:16: FutureWarning: The frame.append method is deprecated and will be removed from pandas in a future version. Use pandas.concat instead.\n",
      "  df = df.append(emotion_tseries_list[j]['anger'])\n",
      "<ipython-input-172-405845dd64cd>:16: FutureWarning: The frame.append method is deprecated and will be removed from pandas in a future version. Use pandas.concat instead.\n",
      "  df = df.append(emotion_tseries_list[j]['anger'])\n",
      "<ipython-input-172-405845dd64cd>:16: FutureWarning: The frame.append method is deprecated and will be removed from pandas in a future version. Use pandas.concat instead.\n",
      "  df = df.append(emotion_tseries_list[j]['anger'])\n",
      "<ipython-input-172-405845dd64cd>:16: FutureWarning: The frame.append method is deprecated and will be removed from pandas in a future version. Use pandas.concat instead.\n",
      "  df = df.append(emotion_tseries_list[j]['anger'])\n",
      "<ipython-input-172-405845dd64cd>:16: FutureWarning: The frame.append method is deprecated and will be removed from pandas in a future version. Use pandas.concat instead.\n",
      "  df = df.append(emotion_tseries_list[j]['anger'])\n",
      "<ipython-input-172-405845dd64cd>:16: FutureWarning: The frame.append method is deprecated and will be removed from pandas in a future version. Use pandas.concat instead.\n",
      "  df = df.append(emotion_tseries_list[j]['anger'])\n",
      "<ipython-input-172-405845dd64cd>:16: FutureWarning: The frame.append method is deprecated and will be removed from pandas in a future version. Use pandas.concat instead.\n",
      "  df = df.append(emotion_tseries_list[j]['anger'])\n",
      "<ipython-input-172-405845dd64cd>:16: FutureWarning: The frame.append method is deprecated and will be removed from pandas in a future version. Use pandas.concat instead.\n",
      "  df = df.append(emotion_tseries_list[j]['anger'])\n",
      "<ipython-input-172-405845dd64cd>:16: FutureWarning: The frame.append method is deprecated and will be removed from pandas in a future version. Use pandas.concat instead.\n",
      "  df = df.append(emotion_tseries_list[j]['anger'])\n",
      " 68%|██████▊   | 15/22 [00:00<00:00, 71.83it/s]<ipython-input-172-405845dd64cd>:16: FutureWarning: The frame.append method is deprecated and will be removed from pandas in a future version. Use pandas.concat instead.\n",
      "  df = df.append(emotion_tseries_list[j]['anger'])\n",
      "<ipython-input-172-405845dd64cd>:16: FutureWarning: The frame.append method is deprecated and will be removed from pandas in a future version. Use pandas.concat instead.\n",
      "  df = df.append(emotion_tseries_list[j]['anger'])\n",
      "<ipython-input-172-405845dd64cd>:16: FutureWarning: The frame.append method is deprecated and will be removed from pandas in a future version. Use pandas.concat instead.\n",
      "  df = df.append(emotion_tseries_list[j]['anger'])\n",
      "<ipython-input-172-405845dd64cd>:16: FutureWarning: The frame.append method is deprecated and will be removed from pandas in a future version. Use pandas.concat instead.\n",
      "  df = df.append(emotion_tseries_list[j]['anger'])\n",
      "<ipython-input-172-405845dd64cd>:16: FutureWarning: The frame.append method is deprecated and will be removed from pandas in a future version. Use pandas.concat instead.\n",
      "  df = df.append(emotion_tseries_list[j]['anger'])\n",
      "<ipython-input-172-405845dd64cd>:16: FutureWarning: The frame.append method is deprecated and will be removed from pandas in a future version. Use pandas.concat instead.\n",
      "  df = df.append(emotion_tseries_list[j]['anger'])\n",
      "<ipython-input-172-405845dd64cd>:16: FutureWarning: The frame.append method is deprecated and will be removed from pandas in a future version. Use pandas.concat instead.\n",
      "  df = df.append(emotion_tseries_list[j]['anger'])\n",
      "<ipython-input-172-405845dd64cd>:16: FutureWarning: The frame.append method is deprecated and will be removed from pandas in a future version. Use pandas.concat instead.\n",
      "  df = df.append(emotion_tseries_list[j]['anger'])\n",
      "<ipython-input-172-405845dd64cd>:16: FutureWarning: The frame.append method is deprecated and will be removed from pandas in a future version. Use pandas.concat instead.\n",
      "  df = df.append(emotion_tseries_list[j]['anger'])\n",
      "<ipython-input-172-405845dd64cd>:16: FutureWarning: The frame.append method is deprecated and will be removed from pandas in a future version. Use pandas.concat instead.\n",
      "  df = df.append(emotion_tseries_list[j]['anger'])\n",
      "<ipython-input-172-405845dd64cd>:16: FutureWarning: The frame.append method is deprecated and will be removed from pandas in a future version. Use pandas.concat instead.\n",
      "  df = df.append(emotion_tseries_list[j]['anger'])\n",
      "<ipython-input-172-405845dd64cd>:16: FutureWarning: The frame.append method is deprecated and will be removed from pandas in a future version. Use pandas.concat instead.\n",
      "  df = df.append(emotion_tseries_list[j]['anger'])\n",
      "<ipython-input-172-405845dd64cd>:16: FutureWarning: The frame.append method is deprecated and will be removed from pandas in a future version. Use pandas.concat instead.\n",
      "  df = df.append(emotion_tseries_list[j]['anger'])\n",
      "<ipython-input-172-405845dd64cd>:16: FutureWarning: The frame.append method is deprecated and will be removed from pandas in a future version. Use pandas.concat instead.\n",
      "  df = df.append(emotion_tseries_list[j]['anger'])\n"
     ]
    },
    {
     "name": "stderr",
     "output_type": "stream",
     "text": [
      "100%|██████████| 22/22 [00:00<00:00, 75.57it/s]\n"
     ]
    }
   ],
   "source": [
    "isc_list = []\n",
    "for i in tqdm(group_list):\n",
    "    subjects = dyad.get_group(str(i))\n",
    "#     print(subjects)\n",
    "    sub1 = subjects.iloc[0,0]\n",
    "    sub2 = subjects.iloc[1,0]\n",
    "#     print(sub1)\n",
    "#     print(sub2)\n",
    "    emotion_tseries_list = []\n",
    "    emotion_tseries1 = pd.read_csv('/Users/chenyuchieh/Desktop/SED_facial/Data/SED/emotion_interpo_fps1/'+sub1+'.csv').drop(\"Unnamed: 0\",axis=1)\n",
    "    emotion_tseries2 = pd.read_csv('/Users/chenyuchieh/Desktop/SED_facial/Data/SED/emotion_interpo_fps1/'+sub2+'.csv').drop(\"Unnamed: 0\",axis=1)\n",
    "    emotion_tseries_list.append(emotion_tseries1)\n",
    "    emotion_tseries_list.append(emotion_tseries2)\n",
    "    df = pd.DataFrame()\n",
    "    for j in range(len(emotion_tseries_list)):\n",
    "         df = df.append(emotion_tseries_list[j]['anger'])\n",
    "#     print(df)\n",
    "    isc = 1 - spatial.distance.pdist(df, metric = 'correlation')\n",
    "    isc_list.append(isc)\n",
    "isc_list = pd.DataFrame(isc_list)"
   ]
  },
  {
   "cell_type": "code",
   "execution_count": 173,
   "id": "46adb441",
   "metadata": {},
   "outputs": [],
   "source": [
    "# emotion_tseries_list[1]['anger']"
   ]
  },
  {
   "cell_type": "code",
   "execution_count": 174,
   "id": "dbb2105d",
   "metadata": {},
   "outputs": [
    {
     "data": {
      "image/png": "[encoded data removed]",
      "text/plain": [
       "<Figure size 640x480 with 1 Axes>"
      ]
     },
     "metadata": {},
     "output_type": "display_data"
    }
   ],
   "source": [
    "sns.histplot(data=isc_list, legend = False, palette = ['#ea9999']).set_title('RD_anger')\n",
    "plt.savefig(os.path.join(fpath,'Result','ISC_RD_anger.png'), dpi=300)"
   ]
  },
  {
   "cell_type": "markdown",
   "id": "9fcbfd9a",
   "metadata": {},
   "source": [
    "## Disgust"
   ]
  },
  {
   "cell_type": "code",
   "execution_count": 175,
   "id": "19089d05",
   "metadata": {},
   "outputs": [
    {
     "name": "stderr",
     "output_type": "stream",
     "text": [
      "  0%|          | 0/22 [00:00<?, ?it/s]<ipython-input-175-705508fffb58>:16: FutureWarning: The frame.append method is deprecated and will be removed from pandas in a future version. Use pandas.concat instead.\n",
      "  df = df.append(emotion_tseries_list[j]['disgust'])\n",
      "<ipython-input-175-705508fffb58>:16: FutureWarning: The frame.append method is deprecated and will be removed from pandas in a future version. Use pandas.concat instead.\n",
      "  df = df.append(emotion_tseries_list[j]['disgust'])\n",
      "<ipython-input-175-705508fffb58>:16: FutureWarning: The frame.append method is deprecated and will be removed from pandas in a future version. Use pandas.concat instead.\n",
      "  df = df.append(emotion_tseries_list[j]['disgust'])\n",
      "<ipython-input-175-705508fffb58>:16: FutureWarning: The frame.append method is deprecated and will be removed from pandas in a future version. Use pandas.concat instead.\n",
      "  df = df.append(emotion_tseries_list[j]['disgust'])\n",
      "<ipython-input-175-705508fffb58>:16: FutureWarning: The frame.append method is deprecated and will be removed from pandas in a future version. Use pandas.concat instead.\n",
      "  df = df.append(emotion_tseries_list[j]['disgust'])\n",
      "<ipython-input-175-705508fffb58>:16: FutureWarning: The frame.append method is deprecated and will be removed from pandas in a future version. Use pandas.concat instead.\n",
      "  df = df.append(emotion_tseries_list[j]['disgust'])\n",
      "<ipython-input-175-705508fffb58>:16: FutureWarning: The frame.append method is deprecated and will be removed from pandas in a future version. Use pandas.concat instead.\n",
      "  df = df.append(emotion_tseries_list[j]['disgust'])\n",
      "<ipython-input-175-705508fffb58>:16: FutureWarning: The frame.append method is deprecated and will be removed from pandas in a future version. Use pandas.concat instead.\n",
      "  df = df.append(emotion_tseries_list[j]['disgust'])\n",
      "<ipython-input-175-705508fffb58>:16: FutureWarning: The frame.append method is deprecated and will be removed from pandas in a future version. Use pandas.concat instead.\n",
      "  df = df.append(emotion_tseries_list[j]['disgust'])\n",
      "<ipython-input-175-705508fffb58>:16: FutureWarning: The frame.append method is deprecated and will be removed from pandas in a future version. Use pandas.concat instead.\n",
      "  df = df.append(emotion_tseries_list[j]['disgust'])\n",
      "<ipython-input-175-705508fffb58>:16: FutureWarning: The frame.append method is deprecated and will be removed from pandas in a future version. Use pandas.concat instead.\n",
      "  df = df.append(emotion_tseries_list[j]['disgust'])\n",
      "<ipython-input-175-705508fffb58>:16: FutureWarning: The frame.append method is deprecated and will be removed from pandas in a future version. Use pandas.concat instead.\n",
      "  df = df.append(emotion_tseries_list[j]['disgust'])\n",
      "<ipython-input-175-705508fffb58>:16: FutureWarning: The frame.append method is deprecated and will be removed from pandas in a future version. Use pandas.concat instead.\n",
      "  df = df.append(emotion_tseries_list[j]['disgust'])\n",
      "<ipython-input-175-705508fffb58>:16: FutureWarning: The frame.append method is deprecated and will be removed from pandas in a future version. Use pandas.concat instead.\n",
      "  df = df.append(emotion_tseries_list[j]['disgust'])\n",
      "<ipython-input-175-705508fffb58>:16: FutureWarning: The frame.append method is deprecated and will be removed from pandas in a future version. Use pandas.concat instead.\n",
      "  df = df.append(emotion_tseries_list[j]['disgust'])\n",
      "<ipython-input-175-705508fffb58>:16: FutureWarning: The frame.append method is deprecated and will be removed from pandas in a future version. Use pandas.concat instead.\n",
      "  df = df.append(emotion_tseries_list[j]['disgust'])\n",
      "<ipython-input-175-705508fffb58>:16: FutureWarning: The frame.append method is deprecated and will be removed from pandas in a future version. Use pandas.concat instead.\n",
      "  df = df.append(emotion_tseries_list[j]['disgust'])\n",
      "<ipython-input-175-705508fffb58>:16: FutureWarning: The frame.append method is deprecated and will be removed from pandas in a future version. Use pandas.concat instead.\n",
      "  df = df.append(emotion_tseries_list[j]['disgust'])\n",
      "<ipython-input-175-705508fffb58>:16: FutureWarning: The frame.append method is deprecated and will be removed from pandas in a future version. Use pandas.concat instead.\n",
      "  df = df.append(emotion_tseries_list[j]['disgust'])\n",
      "<ipython-input-175-705508fffb58>:16: FutureWarning: The frame.append method is deprecated and will be removed from pandas in a future version. Use pandas.concat instead.\n",
      "  df = df.append(emotion_tseries_list[j]['disgust'])\n",
      " 45%|████▌     | 10/22 [00:00<00:00, 92.16it/s]<ipython-input-175-705508fffb58>:16: FutureWarning: The frame.append method is deprecated and will be removed from pandas in a future version. Use pandas.concat instead.\n",
      "  df = df.append(emotion_tseries_list[j]['disgust'])\n",
      "<ipython-input-175-705508fffb58>:16: FutureWarning: The frame.append method is deprecated and will be removed from pandas in a future version. Use pandas.concat instead.\n",
      "  df = df.append(emotion_tseries_list[j]['disgust'])\n",
      "<ipython-input-175-705508fffb58>:16: FutureWarning: The frame.append method is deprecated and will be removed from pandas in a future version. Use pandas.concat instead.\n",
      "  df = df.append(emotion_tseries_list[j]['disgust'])\n",
      "<ipython-input-175-705508fffb58>:16: FutureWarning: The frame.append method is deprecated and will be removed from pandas in a future version. Use pandas.concat instead.\n",
      "  df = df.append(emotion_tseries_list[j]['disgust'])\n",
      "<ipython-input-175-705508fffb58>:16: FutureWarning: The frame.append method is deprecated and will be removed from pandas in a future version. Use pandas.concat instead.\n",
      "  df = df.append(emotion_tseries_list[j]['disgust'])\n",
      "<ipython-input-175-705508fffb58>:16: FutureWarning: The frame.append method is deprecated and will be removed from pandas in a future version. Use pandas.concat instead.\n",
      "  df = df.append(emotion_tseries_list[j]['disgust'])\n",
      "<ipython-input-175-705508fffb58>:16: FutureWarning: The frame.append method is deprecated and will be removed from pandas in a future version. Use pandas.concat instead.\n",
      "  df = df.append(emotion_tseries_list[j]['disgust'])\n",
      "<ipython-input-175-705508fffb58>:16: FutureWarning: The frame.append method is deprecated and will be removed from pandas in a future version. Use pandas.concat instead.\n",
      "  df = df.append(emotion_tseries_list[j]['disgust'])\n",
      "<ipython-input-175-705508fffb58>:16: FutureWarning: The frame.append method is deprecated and will be removed from pandas in a future version. Use pandas.concat instead.\n",
      "  df = df.append(emotion_tseries_list[j]['disgust'])\n",
      "<ipython-input-175-705508fffb58>:16: FutureWarning: The frame.append method is deprecated and will be removed from pandas in a future version. Use pandas.concat instead.\n",
      "  df = df.append(emotion_tseries_list[j]['disgust'])\n",
      "<ipython-input-175-705508fffb58>:16: FutureWarning: The frame.append method is deprecated and will be removed from pandas in a future version. Use pandas.concat instead.\n",
      "  df = df.append(emotion_tseries_list[j]['disgust'])\n",
      "<ipython-input-175-705508fffb58>:16: FutureWarning: The frame.append method is deprecated and will be removed from pandas in a future version. Use pandas.concat instead.\n",
      "  df = df.append(emotion_tseries_list[j]['disgust'])\n",
      "<ipython-input-175-705508fffb58>:16: FutureWarning: The frame.append method is deprecated and will be removed from pandas in a future version. Use pandas.concat instead.\n",
      "  df = df.append(emotion_tseries_list[j]['disgust'])\n",
      "<ipython-input-175-705508fffb58>:16: FutureWarning: The frame.append method is deprecated and will be removed from pandas in a future version. Use pandas.concat instead.\n",
      "  df = df.append(emotion_tseries_list[j]['disgust'])\n",
      "<ipython-input-175-705508fffb58>:16: FutureWarning: The frame.append method is deprecated and will be removed from pandas in a future version. Use pandas.concat instead.\n",
      "  df = df.append(emotion_tseries_list[j]['disgust'])\n",
      "<ipython-input-175-705508fffb58>:16: FutureWarning: The frame.append method is deprecated and will be removed from pandas in a future version. Use pandas.concat instead.\n",
      "  df = df.append(emotion_tseries_list[j]['disgust'])\n",
      "<ipython-input-175-705508fffb58>:16: FutureWarning: The frame.append method is deprecated and will be removed from pandas in a future version. Use pandas.concat instead.\n",
      "  df = df.append(emotion_tseries_list[j]['disgust'])\n",
      "<ipython-input-175-705508fffb58>:16: FutureWarning: The frame.append method is deprecated and will be removed from pandas in a future version. Use pandas.concat instead.\n",
      "  df = df.append(emotion_tseries_list[j]['disgust'])\n"
     ]
    },
    {
     "name": "stderr",
     "output_type": "stream",
     "text": [
      "<ipython-input-175-705508fffb58>:16: FutureWarning: The frame.append method is deprecated and will be removed from pandas in a future version. Use pandas.concat instead.\n",
      "  df = df.append(emotion_tseries_list[j]['disgust'])\n",
      "<ipython-input-175-705508fffb58>:16: FutureWarning: The frame.append method is deprecated and will be removed from pandas in a future version. Use pandas.concat instead.\n",
      "  df = df.append(emotion_tseries_list[j]['disgust'])\n",
      " 91%|█████████ | 20/22 [00:00<00:00, 93.92it/s]<ipython-input-175-705508fffb58>:16: FutureWarning: The frame.append method is deprecated and will be removed from pandas in a future version. Use pandas.concat instead.\n",
      "  df = df.append(emotion_tseries_list[j]['disgust'])\n",
      "<ipython-input-175-705508fffb58>:16: FutureWarning: The frame.append method is deprecated and will be removed from pandas in a future version. Use pandas.concat instead.\n",
      "  df = df.append(emotion_tseries_list[j]['disgust'])\n",
      "<ipython-input-175-705508fffb58>:16: FutureWarning: The frame.append method is deprecated and will be removed from pandas in a future version. Use pandas.concat instead.\n",
      "  df = df.append(emotion_tseries_list[j]['disgust'])\n",
      "<ipython-input-175-705508fffb58>:16: FutureWarning: The frame.append method is deprecated and will be removed from pandas in a future version. Use pandas.concat instead.\n",
      "  df = df.append(emotion_tseries_list[j]['disgust'])\n",
      "100%|██████████| 22/22 [00:00<00:00, 93.05it/s]\n"
     ]
    }
   ],
   "source": [
    "isc_list = []\n",
    "for i in tqdm(group_list):\n",
    "    subjects = dyad.get_group(str(i))\n",
    "#     print(subjects)\n",
    "    sub1 = subjects.iloc[0,0]\n",
    "    sub2 = subjects.iloc[1,0]\n",
    "#     print(sub1)\n",
    "#     print(sub2)\n",
    "    emotion_tseries_list = []\n",
    "    emotion_tseries1 = pd.read_csv('/Users/chenyuchieh/Desktop/SED_facial/Data/SED/emotion_interpo_fps1/'+sub1+'.csv').drop(\"Unnamed: 0\",axis=1)\n",
    "    emotion_tseries2 = pd.read_csv('/Users/chenyuchieh/Desktop/SED_facial/Data/SED/emotion_interpo_fps1/'+sub2+'.csv').drop(\"Unnamed: 0\",axis=1)\n",
    "    emotion_tseries_list.append(emotion_tseries1)\n",
    "    emotion_tseries_list.append(emotion_tseries2)\n",
    "    df = pd.DataFrame()\n",
    "    for j in range(len(emotion_tseries_list)):\n",
    "         df = df.append(emotion_tseries_list[j]['disgust'])\n",
    "#     print(df)\n",
    "    isc = 1 - spatial.distance.pdist(df, metric = 'correlation')\n",
    "    isc_list.append(isc)\n",
    "isc_list = pd.DataFrame(isc_list)"
   ]
  },
  {
   "cell_type": "code",
   "execution_count": 176,
   "id": "c9b6a895",
   "metadata": {
    "scrolled": true
   },
   "outputs": [
    {
     "data": {
      "image/png": "[encoded data removed]",
      "text/plain": [
       "<Figure size 640x480 with 1 Axes>"
      ]
     },
     "metadata": {},
     "output_type": "display_data"
    }
   ],
   "source": [
    "sns.histplot(data=isc_list, legend = False, palette = ['#ea9999']).set_title('RD_disgust')\n",
    "plt.savefig(os.path.join(fpath,'Result','ISC_RD_disgust.png'), dpi=300)"
   ]
  },
  {
   "cell_type": "markdown",
   "id": "31812c7a",
   "metadata": {},
   "source": [
    "## Fear"
   ]
  },
  {
   "cell_type": "code",
   "execution_count": 177,
   "id": "7ac3024c",
   "metadata": {},
   "outputs": [
    {
     "name": "stderr",
     "output_type": "stream",
     "text": [
      "  0%|          | 0/22 [00:00<?, ?it/s]<ipython-input-177-154072c43d91>:16: FutureWarning: The frame.append method is deprecated and will be removed from pandas in a future version. Use pandas.concat instead.\n",
      "  df = df.append(emotion_tseries_list[j]['fear'])\n",
      "<ipython-input-177-154072c43d91>:16: FutureWarning: The frame.append method is deprecated and will be removed from pandas in a future version. Use pandas.concat instead.\n",
      "  df = df.append(emotion_tseries_list[j]['fear'])\n",
      "<ipython-input-177-154072c43d91>:16: FutureWarning: The frame.append method is deprecated and will be removed from pandas in a future version. Use pandas.concat instead.\n",
      "  df = df.append(emotion_tseries_list[j]['fear'])\n",
      "<ipython-input-177-154072c43d91>:16: FutureWarning: The frame.append method is deprecated and will be removed from pandas in a future version. Use pandas.concat instead.\n",
      "  df = df.append(emotion_tseries_list[j]['fear'])\n",
      "<ipython-input-177-154072c43d91>:16: FutureWarning: The frame.append method is deprecated and will be removed from pandas in a future version. Use pandas.concat instead.\n",
      "  df = df.append(emotion_tseries_list[j]['fear'])\n",
      "<ipython-input-177-154072c43d91>:16: FutureWarning: The frame.append method is deprecated and will be removed from pandas in a future version. Use pandas.concat instead.\n",
      "  df = df.append(emotion_tseries_list[j]['fear'])\n",
      "<ipython-input-177-154072c43d91>:16: FutureWarning: The frame.append method is deprecated and will be removed from pandas in a future version. Use pandas.concat instead.\n",
      "  df = df.append(emotion_tseries_list[j]['fear'])\n",
      "<ipython-input-177-154072c43d91>:16: FutureWarning: The frame.append method is deprecated and will be removed from pandas in a future version. Use pandas.concat instead.\n",
      "  df = df.append(emotion_tseries_list[j]['fear'])\n",
      "<ipython-input-177-154072c43d91>:16: FutureWarning: The frame.append method is deprecated and will be removed from pandas in a future version. Use pandas.concat instead.\n",
      "  df = df.append(emotion_tseries_list[j]['fear'])\n",
      "<ipython-input-177-154072c43d91>:16: FutureWarning: The frame.append method is deprecated and will be removed from pandas in a future version. Use pandas.concat instead.\n",
      "  df = df.append(emotion_tseries_list[j]['fear'])\n",
      "<ipython-input-177-154072c43d91>:16: FutureWarning: The frame.append method is deprecated and will be removed from pandas in a future version. Use pandas.concat instead.\n",
      "  df = df.append(emotion_tseries_list[j]['fear'])\n",
      "<ipython-input-177-154072c43d91>:16: FutureWarning: The frame.append method is deprecated and will be removed from pandas in a future version. Use pandas.concat instead.\n",
      "  df = df.append(emotion_tseries_list[j]['fear'])\n",
      "<ipython-input-177-154072c43d91>:16: FutureWarning: The frame.append method is deprecated and will be removed from pandas in a future version. Use pandas.concat instead.\n",
      "  df = df.append(emotion_tseries_list[j]['fear'])\n",
      "<ipython-input-177-154072c43d91>:16: FutureWarning: The frame.append method is deprecated and will be removed from pandas in a future version. Use pandas.concat instead.\n",
      "  df = df.append(emotion_tseries_list[j]['fear'])\n",
      "<ipython-input-177-154072c43d91>:16: FutureWarning: The frame.append method is deprecated and will be removed from pandas in a future version. Use pandas.concat instead.\n",
      "  df = df.append(emotion_tseries_list[j]['fear'])\n",
      "<ipython-input-177-154072c43d91>:16: FutureWarning: The frame.append method is deprecated and will be removed from pandas in a future version. Use pandas.concat instead.\n",
      "  df = df.append(emotion_tseries_list[j]['fear'])\n",
      "<ipython-input-177-154072c43d91>:16: FutureWarning: The frame.append method is deprecated and will be removed from pandas in a future version. Use pandas.concat instead.\n",
      "  df = df.append(emotion_tseries_list[j]['fear'])\n",
      "<ipython-input-177-154072c43d91>:16: FutureWarning: The frame.append method is deprecated and will be removed from pandas in a future version. Use pandas.concat instead.\n",
      "  df = df.append(emotion_tseries_list[j]['fear'])\n",
      "<ipython-input-177-154072c43d91>:16: FutureWarning: The frame.append method is deprecated and will be removed from pandas in a future version. Use pandas.concat instead.\n",
      "  df = df.append(emotion_tseries_list[j]['fear'])\n",
      "<ipython-input-177-154072c43d91>:16: FutureWarning: The frame.append method is deprecated and will be removed from pandas in a future version. Use pandas.concat instead.\n",
      "  df = df.append(emotion_tseries_list[j]['fear'])\n",
      " 45%|████▌     | 10/22 [00:00<00:00, 97.16it/s]<ipython-input-177-154072c43d91>:16: FutureWarning: The frame.append method is deprecated and will be removed from pandas in a future version. Use pandas.concat instead.\n",
      "  df = df.append(emotion_tseries_list[j]['fear'])\n",
      "<ipython-input-177-154072c43d91>:16: FutureWarning: The frame.append method is deprecated and will be removed from pandas in a future version. Use pandas.concat instead.\n",
      "  df = df.append(emotion_tseries_list[j]['fear'])\n",
      "<ipython-input-177-154072c43d91>:16: FutureWarning: The frame.append method is deprecated and will be removed from pandas in a future version. Use pandas.concat instead.\n",
      "  df = df.append(emotion_tseries_list[j]['fear'])\n",
      "<ipython-input-177-154072c43d91>:16: FutureWarning: The frame.append method is deprecated and will be removed from pandas in a future version. Use pandas.concat instead.\n",
      "  df = df.append(emotion_tseries_list[j]['fear'])\n",
      "<ipython-input-177-154072c43d91>:16: FutureWarning: The frame.append method is deprecated and will be removed from pandas in a future version. Use pandas.concat instead.\n",
      "  df = df.append(emotion_tseries_list[j]['fear'])\n",
      "<ipython-input-177-154072c43d91>:16: FutureWarning: The frame.append method is deprecated and will be removed from pandas in a future version. Use pandas.concat instead.\n",
      "  df = df.append(emotion_tseries_list[j]['fear'])\n",
      "<ipython-input-177-154072c43d91>:16: FutureWarning: The frame.append method is deprecated and will be removed from pandas in a future version. Use pandas.concat instead.\n",
      "  df = df.append(emotion_tseries_list[j]['fear'])\n",
      "<ipython-input-177-154072c43d91>:16: FutureWarning: The frame.append method is deprecated and will be removed from pandas in a future version. Use pandas.concat instead.\n",
      "  df = df.append(emotion_tseries_list[j]['fear'])\n",
      "<ipython-input-177-154072c43d91>:16: FutureWarning: The frame.append method is deprecated and will be removed from pandas in a future version. Use pandas.concat instead.\n",
      "  df = df.append(emotion_tseries_list[j]['fear'])\n",
      "<ipython-input-177-154072c43d91>:16: FutureWarning: The frame.append method is deprecated and will be removed from pandas in a future version. Use pandas.concat instead.\n",
      "  df = df.append(emotion_tseries_list[j]['fear'])\n",
      "<ipython-input-177-154072c43d91>:16: FutureWarning: The frame.append method is deprecated and will be removed from pandas in a future version. Use pandas.concat instead.\n",
      "  df = df.append(emotion_tseries_list[j]['fear'])\n",
      "<ipython-input-177-154072c43d91>:16: FutureWarning: The frame.append method is deprecated and will be removed from pandas in a future version. Use pandas.concat instead.\n",
      "  df = df.append(emotion_tseries_list[j]['fear'])\n",
      "<ipython-input-177-154072c43d91>:16: FutureWarning: The frame.append method is deprecated and will be removed from pandas in a future version. Use pandas.concat instead.\n",
      "  df = df.append(emotion_tseries_list[j]['fear'])\n",
      "<ipython-input-177-154072c43d91>:16: FutureWarning: The frame.append method is deprecated and will be removed from pandas in a future version. Use pandas.concat instead.\n",
      "  df = df.append(emotion_tseries_list[j]['fear'])\n",
      "<ipython-input-177-154072c43d91>:16: FutureWarning: The frame.append method is deprecated and will be removed from pandas in a future version. Use pandas.concat instead.\n",
      "  df = df.append(emotion_tseries_list[j]['fear'])\n",
      "<ipython-input-177-154072c43d91>:16: FutureWarning: The frame.append method is deprecated and will be removed from pandas in a future version. Use pandas.concat instead.\n",
      "  df = df.append(emotion_tseries_list[j]['fear'])\n",
      "<ipython-input-177-154072c43d91>:16: FutureWarning: The frame.append method is deprecated and will be removed from pandas in a future version. Use pandas.concat instead.\n",
      "  df = df.append(emotion_tseries_list[j]['fear'])\n",
      "<ipython-input-177-154072c43d91>:16: FutureWarning: The frame.append method is deprecated and will be removed from pandas in a future version. Use pandas.concat instead.\n",
      "  df = df.append(emotion_tseries_list[j]['fear'])\n"
     ]
    },
    {
     "name": "stderr",
     "output_type": "stream",
     "text": [
      "<ipython-input-177-154072c43d91>:16: FutureWarning: The frame.append method is deprecated and will be removed from pandas in a future version. Use pandas.concat instead.\n",
      "  df = df.append(emotion_tseries_list[j]['fear'])\n",
      "<ipython-input-177-154072c43d91>:16: FutureWarning: The frame.append method is deprecated and will be removed from pandas in a future version. Use pandas.concat instead.\n",
      "  df = df.append(emotion_tseries_list[j]['fear'])\n",
      " 91%|█████████ | 20/22 [00:00<00:00, 98.61it/s]<ipython-input-177-154072c43d91>:16: FutureWarning: The frame.append method is deprecated and will be removed from pandas in a future version. Use pandas.concat instead.\n",
      "  df = df.append(emotion_tseries_list[j]['fear'])\n",
      "<ipython-input-177-154072c43d91>:16: FutureWarning: The frame.append method is deprecated and will be removed from pandas in a future version. Use pandas.concat instead.\n",
      "  df = df.append(emotion_tseries_list[j]['fear'])\n",
      "<ipython-input-177-154072c43d91>:16: FutureWarning: The frame.append method is deprecated and will be removed from pandas in a future version. Use pandas.concat instead.\n",
      "  df = df.append(emotion_tseries_list[j]['fear'])\n",
      "<ipython-input-177-154072c43d91>:16: FutureWarning: The frame.append method is deprecated and will be removed from pandas in a future version. Use pandas.concat instead.\n",
      "  df = df.append(emotion_tseries_list[j]['fear'])\n",
      "100%|██████████| 22/22 [00:00<00:00, 96.26it/s]\n"
     ]
    }
   ],
   "source": [
    "isc_list = []\n",
    "for i in tqdm(group_list):\n",
    "    subjects = dyad.get_group(str(i))\n",
    "#     print(subjects)\n",
    "    sub1 = subjects.iloc[0,0]\n",
    "    sub2 = subjects.iloc[1,0]\n",
    "#     print(sub1)\n",
    "#     print(sub2)\n",
    "    emotion_tseries_list = []\n",
    "    emotion_tseries1 = pd.read_csv('/Users/chenyuchieh/Desktop/SED_facial/Data/SED/emotion_interpo_fps1/'+sub1+'.csv').drop(\"Unnamed: 0\",axis=1)\n",
    "    emotion_tseries2 = pd.read_csv('/Users/chenyuchieh/Desktop/SED_facial/Data/SED/emotion_interpo_fps1/'+sub2+'.csv').drop(\"Unnamed: 0\",axis=1)\n",
    "    emotion_tseries_list.append(emotion_tseries1)\n",
    "    emotion_tseries_list.append(emotion_tseries2)\n",
    "    df = pd.DataFrame()\n",
    "    for j in range(len(emotion_tseries_list)):\n",
    "         df = df.append(emotion_tseries_list[j]['fear'])\n",
    "#     print(df)\n",
    "    isc = 1 - spatial.distance.pdist(df, metric = 'correlation')\n",
    "    isc_list.append(isc)\n",
    "isc_list = pd.DataFrame(isc_list)"
   ]
  },
  {
   "cell_type": "code",
   "execution_count": 178,
   "id": "158d0482",
   "metadata": {
    "scrolled": true
   },
   "outputs": [
    {
     "data": {
      "image/png": "[encoded data removed]",
      "text/plain": [
       "<Figure size 640x480 with 1 Axes>"
      ]
     },
     "metadata": {},
     "output_type": "display_data"
    }
   ],
   "source": [
    "sns.histplot(data=isc_list, legend = False, palette = ['#ea9999']).set_title('RD_fear')\n",
    "plt.savefig(os.path.join(fpath,'Result','ISC_RD_fear.png'), dpi=300)"
   ]
  },
  {
   "cell_type": "markdown",
   "id": "86d70274",
   "metadata": {},
   "source": [
    "## Happiness"
   ]
  },
  {
   "cell_type": "code",
   "execution_count": 179,
   "id": "0adc4707",
   "metadata": {},
   "outputs": [
    {
     "name": "stderr",
     "output_type": "stream",
     "text": [
      "  0%|          | 0/22 [00:00<?, ?it/s]<ipython-input-179-69c5a12b2704>:16: FutureWarning: The frame.append method is deprecated and will be removed from pandas in a future version. Use pandas.concat instead.\n",
      "  df = df.append(emotion_tseries_list[j]['happiness'])\n",
      "<ipython-input-179-69c5a12b2704>:16: FutureWarning: The frame.append method is deprecated and will be removed from pandas in a future version. Use pandas.concat instead.\n",
      "  df = df.append(emotion_tseries_list[j]['happiness'])\n",
      "<ipython-input-179-69c5a12b2704>:16: FutureWarning: The frame.append method is deprecated and will be removed from pandas in a future version. Use pandas.concat instead.\n",
      "  df = df.append(emotion_tseries_list[j]['happiness'])\n",
      "<ipython-input-179-69c5a12b2704>:16: FutureWarning: The frame.append method is deprecated and will be removed from pandas in a future version. Use pandas.concat instead.\n",
      "  df = df.append(emotion_tseries_list[j]['happiness'])\n",
      "<ipython-input-179-69c5a12b2704>:16: FutureWarning: The frame.append method is deprecated and will be removed from pandas in a future version. Use pandas.concat instead.\n",
      "  df = df.append(emotion_tseries_list[j]['happiness'])\n",
      "<ipython-input-179-69c5a12b2704>:16: FutureWarning: The frame.append method is deprecated and will be removed from pandas in a future version. Use pandas.concat instead.\n",
      "  df = df.append(emotion_tseries_list[j]['happiness'])\n",
      "<ipython-input-179-69c5a12b2704>:16: FutureWarning: The frame.append method is deprecated and will be removed from pandas in a future version. Use pandas.concat instead.\n",
      "  df = df.append(emotion_tseries_list[j]['happiness'])\n",
      "<ipython-input-179-69c5a12b2704>:16: FutureWarning: The frame.append method is deprecated and will be removed from pandas in a future version. Use pandas.concat instead.\n",
      "  df = df.append(emotion_tseries_list[j]['happiness'])\n",
      "<ipython-input-179-69c5a12b2704>:16: FutureWarning: The frame.append method is deprecated and will be removed from pandas in a future version. Use pandas.concat instead.\n",
      "  df = df.append(emotion_tseries_list[j]['happiness'])\n",
      "<ipython-input-179-69c5a12b2704>:16: FutureWarning: The frame.append method is deprecated and will be removed from pandas in a future version. Use pandas.concat instead.\n",
      "  df = df.append(emotion_tseries_list[j]['happiness'])\n",
      "<ipython-input-179-69c5a12b2704>:16: FutureWarning: The frame.append method is deprecated and will be removed from pandas in a future version. Use pandas.concat instead.\n",
      "  df = df.append(emotion_tseries_list[j]['happiness'])\n",
      "<ipython-input-179-69c5a12b2704>:16: FutureWarning: The frame.append method is deprecated and will be removed from pandas in a future version. Use pandas.concat instead.\n",
      "  df = df.append(emotion_tseries_list[j]['happiness'])\n",
      "<ipython-input-179-69c5a12b2704>:16: FutureWarning: The frame.append method is deprecated and will be removed from pandas in a future version. Use pandas.concat instead.\n",
      "  df = df.append(emotion_tseries_list[j]['happiness'])\n",
      "<ipython-input-179-69c5a12b2704>:16: FutureWarning: The frame.append method is deprecated and will be removed from pandas in a future version. Use pandas.concat instead.\n",
      "  df = df.append(emotion_tseries_list[j]['happiness'])\n",
      "<ipython-input-179-69c5a12b2704>:16: FutureWarning: The frame.append method is deprecated and will be removed from pandas in a future version. Use pandas.concat instead.\n",
      "  df = df.append(emotion_tseries_list[j]['happiness'])\n",
      "<ipython-input-179-69c5a12b2704>:16: FutureWarning: The frame.append method is deprecated and will be removed from pandas in a future version. Use pandas.concat instead.\n",
      "  df = df.append(emotion_tseries_list[j]['happiness'])\n",
      "<ipython-input-179-69c5a12b2704>:16: FutureWarning: The frame.append method is deprecated and will be removed from pandas in a future version. Use pandas.concat instead.\n",
      "  df = df.append(emotion_tseries_list[j]['happiness'])\n",
      "<ipython-input-179-69c5a12b2704>:16: FutureWarning: The frame.append method is deprecated and will be removed from pandas in a future version. Use pandas.concat instead.\n",
      "  df = df.append(emotion_tseries_list[j]['happiness'])\n",
      "<ipython-input-179-69c5a12b2704>:16: FutureWarning: The frame.append method is deprecated and will be removed from pandas in a future version. Use pandas.concat instead.\n",
      "  df = df.append(emotion_tseries_list[j]['happiness'])\n",
      "<ipython-input-179-69c5a12b2704>:16: FutureWarning: The frame.append method is deprecated and will be removed from pandas in a future version. Use pandas.concat instead.\n",
      "  df = df.append(emotion_tseries_list[j]['happiness'])\n",
      " 45%|████▌     | 10/22 [00:00<00:00, 97.11it/s]<ipython-input-179-69c5a12b2704>:16: FutureWarning: The frame.append method is deprecated and will be removed from pandas in a future version. Use pandas.concat instead.\n",
      "  df = df.append(emotion_tseries_list[j]['happiness'])\n",
      "<ipython-input-179-69c5a12b2704>:16: FutureWarning: The frame.append method is deprecated and will be removed from pandas in a future version. Use pandas.concat instead.\n",
      "  df = df.append(emotion_tseries_list[j]['happiness'])\n",
      "<ipython-input-179-69c5a12b2704>:16: FutureWarning: The frame.append method is deprecated and will be removed from pandas in a future version. Use pandas.concat instead.\n",
      "  df = df.append(emotion_tseries_list[j]['happiness'])\n",
      "<ipython-input-179-69c5a12b2704>:16: FutureWarning: The frame.append method is deprecated and will be removed from pandas in a future version. Use pandas.concat instead.\n",
      "  df = df.append(emotion_tseries_list[j]['happiness'])\n",
      "<ipython-input-179-69c5a12b2704>:16: FutureWarning: The frame.append method is deprecated and will be removed from pandas in a future version. Use pandas.concat instead.\n",
      "  df = df.append(emotion_tseries_list[j]['happiness'])\n",
      "<ipython-input-179-69c5a12b2704>:16: FutureWarning: The frame.append method is deprecated and will be removed from pandas in a future version. Use pandas.concat instead.\n",
      "  df = df.append(emotion_tseries_list[j]['happiness'])\n",
      "<ipython-input-179-69c5a12b2704>:16: FutureWarning: The frame.append method is deprecated and will be removed from pandas in a future version. Use pandas.concat instead.\n",
      "  df = df.append(emotion_tseries_list[j]['happiness'])\n",
      "<ipython-input-179-69c5a12b2704>:16: FutureWarning: The frame.append method is deprecated and will be removed from pandas in a future version. Use pandas.concat instead.\n",
      "  df = df.append(emotion_tseries_list[j]['happiness'])\n",
      "<ipython-input-179-69c5a12b2704>:16: FutureWarning: The frame.append method is deprecated and will be removed from pandas in a future version. Use pandas.concat instead.\n",
      "  df = df.append(emotion_tseries_list[j]['happiness'])\n",
      "<ipython-input-179-69c5a12b2704>:16: FutureWarning: The frame.append method is deprecated and will be removed from pandas in a future version. Use pandas.concat instead.\n",
      "  df = df.append(emotion_tseries_list[j]['happiness'])\n",
      "<ipython-input-179-69c5a12b2704>:16: FutureWarning: The frame.append method is deprecated and will be removed from pandas in a future version. Use pandas.concat instead.\n",
      "  df = df.append(emotion_tseries_list[j]['happiness'])\n",
      "<ipython-input-179-69c5a12b2704>:16: FutureWarning: The frame.append method is deprecated and will be removed from pandas in a future version. Use pandas.concat instead.\n",
      "  df = df.append(emotion_tseries_list[j]['happiness'])\n",
      "<ipython-input-179-69c5a12b2704>:16: FutureWarning: The frame.append method is deprecated and will be removed from pandas in a future version. Use pandas.concat instead.\n",
      "  df = df.append(emotion_tseries_list[j]['happiness'])\n",
      "<ipython-input-179-69c5a12b2704>:16: FutureWarning: The frame.append method is deprecated and will be removed from pandas in a future version. Use pandas.concat instead.\n",
      "  df = df.append(emotion_tseries_list[j]['happiness'])\n",
      "<ipython-input-179-69c5a12b2704>:16: FutureWarning: The frame.append method is deprecated and will be removed from pandas in a future version. Use pandas.concat instead.\n",
      "  df = df.append(emotion_tseries_list[j]['happiness'])\n",
      "<ipython-input-179-69c5a12b2704>:16: FutureWarning: The frame.append method is deprecated and will be removed from pandas in a future version. Use pandas.concat instead.\n",
      "  df = df.append(emotion_tseries_list[j]['happiness'])\n",
      "<ipython-input-179-69c5a12b2704>:16: FutureWarning: The frame.append method is deprecated and will be removed from pandas in a future version. Use pandas.concat instead.\n",
      "  df = df.append(emotion_tseries_list[j]['happiness'])\n",
      "<ipython-input-179-69c5a12b2704>:16: FutureWarning: The frame.append method is deprecated and will be removed from pandas in a future version. Use pandas.concat instead.\n",
      "  df = df.append(emotion_tseries_list[j]['happiness'])\n"
     ]
    },
    {
     "name": "stderr",
     "output_type": "stream",
     "text": [
      "<ipython-input-179-69c5a12b2704>:16: FutureWarning: The frame.append method is deprecated and will be removed from pandas in a future version. Use pandas.concat instead.\n",
      "  df = df.append(emotion_tseries_list[j]['happiness'])\n",
      "<ipython-input-179-69c5a12b2704>:16: FutureWarning: The frame.append method is deprecated and will be removed from pandas in a future version. Use pandas.concat instead.\n",
      "  df = df.append(emotion_tseries_list[j]['happiness'])\n",
      " 91%|█████████ | 20/22 [00:00<00:00, 97.35it/s]<ipython-input-179-69c5a12b2704>:16: FutureWarning: The frame.append method is deprecated and will be removed from pandas in a future version. Use pandas.concat instead.\n",
      "  df = df.append(emotion_tseries_list[j]['happiness'])\n",
      "<ipython-input-179-69c5a12b2704>:16: FutureWarning: The frame.append method is deprecated and will be removed from pandas in a future version. Use pandas.concat instead.\n",
      "  df = df.append(emotion_tseries_list[j]['happiness'])\n",
      "<ipython-input-179-69c5a12b2704>:16: FutureWarning: The frame.append method is deprecated and will be removed from pandas in a future version. Use pandas.concat instead.\n",
      "  df = df.append(emotion_tseries_list[j]['happiness'])\n",
      "<ipython-input-179-69c5a12b2704>:16: FutureWarning: The frame.append method is deprecated and will be removed from pandas in a future version. Use pandas.concat instead.\n",
      "  df = df.append(emotion_tseries_list[j]['happiness'])\n",
      "100%|██████████| 22/22 [00:00<00:00, 96.57it/s]\n"
     ]
    }
   ],
   "source": [
    "isc_list = []\n",
    "for i in tqdm(group_list):\n",
    "    subjects = dyad.get_group(str(i))\n",
    "#     print(subjects)\n",
    "    sub1 = subjects.iloc[0,0]\n",
    "    sub2 = subjects.iloc[1,0]\n",
    "#     print(sub1)\n",
    "#     print(sub2)\n",
    "    emotion_tseries_list = []\n",
    "    emotion_tseries1 = pd.read_csv('/Users/chenyuchieh/Desktop/SED_facial/Data/SED/emotion_interpo_fps1/'+sub1+'.csv').drop(\"Unnamed: 0\",axis=1)\n",
    "    emotion_tseries2 = pd.read_csv('/Users/chenyuchieh/Desktop/SED_facial/Data/SED/emotion_interpo_fps1/'+sub2+'.csv').drop(\"Unnamed: 0\",axis=1)\n",
    "    emotion_tseries_list.append(emotion_tseries1)\n",
    "    emotion_tseries_list.append(emotion_tseries2)\n",
    "    df = pd.DataFrame()\n",
    "    for j in range(len(emotion_tseries_list)):\n",
    "         df = df.append(emotion_tseries_list[j]['happiness'])\n",
    "#     print(df)\n",
    "    isc = 1 - spatial.distance.pdist(df, metric = 'correlation')\n",
    "    isc_list.append(isc)\n",
    "isc_list = pd.DataFrame(isc_list)"
   ]
  },
  {
   "cell_type": "code",
   "execution_count": 180,
   "id": "d0f70fa3",
   "metadata": {
    "scrolled": true
   },
   "outputs": [
    {
     "data": {
      "image/png": "[encoded data removed]",
      "text/plain": [
       "<Figure size 640x480 with 1 Axes>"
      ]
     },
     "metadata": {},
     "output_type": "display_data"
    }
   ],
   "source": [
    "sns.histplot(data=isc_list, legend = False, palette = ['#ea9999']).set_title('RD_happiness')\n",
    "plt.savefig(os.path.join(fpath,'Result','ISC_RD_happiness.png'), dpi=300)"
   ]
  },
  {
   "cell_type": "markdown",
   "id": "e82e4381",
   "metadata": {},
   "source": [
    "## Sadness"
   ]
  },
  {
   "cell_type": "code",
   "execution_count": 181,
   "id": "df60fdbe",
   "metadata": {},
   "outputs": [
    {
     "name": "stderr",
     "output_type": "stream",
     "text": [
      "  0%|          | 0/22 [00:00<?, ?it/s]<ipython-input-181-da79c182dcce>:16: FutureWarning: The frame.append method is deprecated and will be removed from pandas in a future version. Use pandas.concat instead.\n",
      "  df = df.append(emotion_tseries_list[j]['sadness'])\n",
      "<ipython-input-181-da79c182dcce>:16: FutureWarning: The frame.append method is deprecated and will be removed from pandas in a future version. Use pandas.concat instead.\n",
      "  df = df.append(emotion_tseries_list[j]['sadness'])\n",
      "<ipython-input-181-da79c182dcce>:16: FutureWarning: The frame.append method is deprecated and will be removed from pandas in a future version. Use pandas.concat instead.\n",
      "  df = df.append(emotion_tseries_list[j]['sadness'])\n",
      "<ipython-input-181-da79c182dcce>:16: FutureWarning: The frame.append method is deprecated and will be removed from pandas in a future version. Use pandas.concat instead.\n",
      "  df = df.append(emotion_tseries_list[j]['sadness'])\n",
      "<ipython-input-181-da79c182dcce>:16: FutureWarning: The frame.append method is deprecated and will be removed from pandas in a future version. Use pandas.concat instead.\n",
      "  df = df.append(emotion_tseries_list[j]['sadness'])\n",
      "<ipython-input-181-da79c182dcce>:16: FutureWarning: The frame.append method is deprecated and will be removed from pandas in a future version. Use pandas.concat instead.\n",
      "  df = df.append(emotion_tseries_list[j]['sadness'])\n",
      "<ipython-input-181-da79c182dcce>:16: FutureWarning: The frame.append method is deprecated and will be removed from pandas in a future version. Use pandas.concat instead.\n",
      "  df = df.append(emotion_tseries_list[j]['sadness'])\n",
      "<ipython-input-181-da79c182dcce>:16: FutureWarning: The frame.append method is deprecated and will be removed from pandas in a future version. Use pandas.concat instead.\n",
      "  df = df.append(emotion_tseries_list[j]['sadness'])\n",
      "<ipython-input-181-da79c182dcce>:16: FutureWarning: The frame.append method is deprecated and will be removed from pandas in a future version. Use pandas.concat instead.\n",
      "  df = df.append(emotion_tseries_list[j]['sadness'])\n",
      "<ipython-input-181-da79c182dcce>:16: FutureWarning: The frame.append method is deprecated and will be removed from pandas in a future version. Use pandas.concat instead.\n",
      "  df = df.append(emotion_tseries_list[j]['sadness'])\n",
      "<ipython-input-181-da79c182dcce>:16: FutureWarning: The frame.append method is deprecated and will be removed from pandas in a future version. Use pandas.concat instead.\n",
      "  df = df.append(emotion_tseries_list[j]['sadness'])\n",
      "<ipython-input-181-da79c182dcce>:16: FutureWarning: The frame.append method is deprecated and will be removed from pandas in a future version. Use pandas.concat instead.\n",
      "  df = df.append(emotion_tseries_list[j]['sadness'])\n",
      "<ipython-input-181-da79c182dcce>:16: FutureWarning: The frame.append method is deprecated and will be removed from pandas in a future version. Use pandas.concat instead.\n",
      "  df = df.append(emotion_tseries_list[j]['sadness'])\n",
      "<ipython-input-181-da79c182dcce>:16: FutureWarning: The frame.append method is deprecated and will be removed from pandas in a future version. Use pandas.concat instead.\n",
      "  df = df.append(emotion_tseries_list[j]['sadness'])\n",
      "<ipython-input-181-da79c182dcce>:16: FutureWarning: The frame.append method is deprecated and will be removed from pandas in a future version. Use pandas.concat instead.\n",
      "  df = df.append(emotion_tseries_list[j]['sadness'])\n",
      "<ipython-input-181-da79c182dcce>:16: FutureWarning: The frame.append method is deprecated and will be removed from pandas in a future version. Use pandas.concat instead.\n",
      "  df = df.append(emotion_tseries_list[j]['sadness'])\n",
      "<ipython-input-181-da79c182dcce>:16: FutureWarning: The frame.append method is deprecated and will be removed from pandas in a future version. Use pandas.concat instead.\n",
      "  df = df.append(emotion_tseries_list[j]['sadness'])\n",
      "<ipython-input-181-da79c182dcce>:16: FutureWarning: The frame.append method is deprecated and will be removed from pandas in a future version. Use pandas.concat instead.\n",
      "  df = df.append(emotion_tseries_list[j]['sadness'])\n",
      " 41%|████      | 9/22 [00:00<00:00, 87.90it/s]<ipython-input-181-da79c182dcce>:16: FutureWarning: The frame.append method is deprecated and will be removed from pandas in a future version. Use pandas.concat instead.\n",
      "  df = df.append(emotion_tseries_list[j]['sadness'])\n",
      "<ipython-input-181-da79c182dcce>:16: FutureWarning: The frame.append method is deprecated and will be removed from pandas in a future version. Use pandas.concat instead.\n",
      "  df = df.append(emotion_tseries_list[j]['sadness'])\n",
      "<ipython-input-181-da79c182dcce>:16: FutureWarning: The frame.append method is deprecated and will be removed from pandas in a future version. Use pandas.concat instead.\n",
      "  df = df.append(emotion_tseries_list[j]['sadness'])\n",
      "<ipython-input-181-da79c182dcce>:16: FutureWarning: The frame.append method is deprecated and will be removed from pandas in a future version. Use pandas.concat instead.\n",
      "  df = df.append(emotion_tseries_list[j]['sadness'])\n",
      "<ipython-input-181-da79c182dcce>:16: FutureWarning: The frame.append method is deprecated and will be removed from pandas in a future version. Use pandas.concat instead.\n",
      "  df = df.append(emotion_tseries_list[j]['sadness'])\n",
      "<ipython-input-181-da79c182dcce>:16: FutureWarning: The frame.append method is deprecated and will be removed from pandas in a future version. Use pandas.concat instead.\n",
      "  df = df.append(emotion_tseries_list[j]['sadness'])\n",
      "<ipython-input-181-da79c182dcce>:16: FutureWarning: The frame.append method is deprecated and will be removed from pandas in a future version. Use pandas.concat instead.\n",
      "  df = df.append(emotion_tseries_list[j]['sadness'])\n",
      "<ipython-input-181-da79c182dcce>:16: FutureWarning: The frame.append method is deprecated and will be removed from pandas in a future version. Use pandas.concat instead.\n",
      "  df = df.append(emotion_tseries_list[j]['sadness'])\n",
      "<ipython-input-181-da79c182dcce>:16: FutureWarning: The frame.append method is deprecated and will be removed from pandas in a future version. Use pandas.concat instead.\n",
      "  df = df.append(emotion_tseries_list[j]['sadness'])\n",
      "<ipython-input-181-da79c182dcce>:16: FutureWarning: The frame.append method is deprecated and will be removed from pandas in a future version. Use pandas.concat instead.\n",
      "  df = df.append(emotion_tseries_list[j]['sadness'])\n",
      "<ipython-input-181-da79c182dcce>:16: FutureWarning: The frame.append method is deprecated and will be removed from pandas in a future version. Use pandas.concat instead.\n",
      "  df = df.append(emotion_tseries_list[j]['sadness'])\n",
      "<ipython-input-181-da79c182dcce>:16: FutureWarning: The frame.append method is deprecated and will be removed from pandas in a future version. Use pandas.concat instead.\n",
      "  df = df.append(emotion_tseries_list[j]['sadness'])\n",
      "<ipython-input-181-da79c182dcce>:16: FutureWarning: The frame.append method is deprecated and will be removed from pandas in a future version. Use pandas.concat instead.\n",
      "  df = df.append(emotion_tseries_list[j]['sadness'])\n",
      "<ipython-input-181-da79c182dcce>:16: FutureWarning: The frame.append method is deprecated and will be removed from pandas in a future version. Use pandas.concat instead.\n",
      "  df = df.append(emotion_tseries_list[j]['sadness'])\n",
      "<ipython-input-181-da79c182dcce>:16: FutureWarning: The frame.append method is deprecated and will be removed from pandas in a future version. Use pandas.concat instead.\n",
      "  df = df.append(emotion_tseries_list[j]['sadness'])\n",
      "<ipython-input-181-da79c182dcce>:16: FutureWarning: The frame.append method is deprecated and will be removed from pandas in a future version. Use pandas.concat instead.\n",
      "  df = df.append(emotion_tseries_list[j]['sadness'])\n",
      "<ipython-input-181-da79c182dcce>:16: FutureWarning: The frame.append method is deprecated and will be removed from pandas in a future version. Use pandas.concat instead.\n",
      "  df = df.append(emotion_tseries_list[j]['sadness'])\n",
      "<ipython-input-181-da79c182dcce>:16: FutureWarning: The frame.append method is deprecated and will be removed from pandas in a future version. Use pandas.concat instead.\n",
      "  df = df.append(emotion_tseries_list[j]['sadness'])\n",
      "<ipython-input-181-da79c182dcce>:16: FutureWarning: The frame.append method is deprecated and will be removed from pandas in a future version. Use pandas.concat instead.\n",
      "  df = df.append(emotion_tseries_list[j]['sadness'])\n",
      "<ipython-input-181-da79c182dcce>:16: FutureWarning: The frame.append method is deprecated and will be removed from pandas in a future version. Use pandas.concat instead.\n",
      "  df = df.append(emotion_tseries_list[j]['sadness'])\n"
     ]
    },
    {
     "name": "stderr",
     "output_type": "stream",
     "text": [
      " 86%|████████▋ | 19/22 [00:00<00:00, 94.21it/s]<ipython-input-181-da79c182dcce>:16: FutureWarning: The frame.append method is deprecated and will be removed from pandas in a future version. Use pandas.concat instead.\n",
      "  df = df.append(emotion_tseries_list[j]['sadness'])\n",
      "<ipython-input-181-da79c182dcce>:16: FutureWarning: The frame.append method is deprecated and will be removed from pandas in a future version. Use pandas.concat instead.\n",
      "  df = df.append(emotion_tseries_list[j]['sadness'])\n",
      "<ipython-input-181-da79c182dcce>:16: FutureWarning: The frame.append method is deprecated and will be removed from pandas in a future version. Use pandas.concat instead.\n",
      "  df = df.append(emotion_tseries_list[j]['sadness'])\n",
      "<ipython-input-181-da79c182dcce>:16: FutureWarning: The frame.append method is deprecated and will be removed from pandas in a future version. Use pandas.concat instead.\n",
      "  df = df.append(emotion_tseries_list[j]['sadness'])\n",
      "<ipython-input-181-da79c182dcce>:16: FutureWarning: The frame.append method is deprecated and will be removed from pandas in a future version. Use pandas.concat instead.\n",
      "  df = df.append(emotion_tseries_list[j]['sadness'])\n",
      "<ipython-input-181-da79c182dcce>:16: FutureWarning: The frame.append method is deprecated and will be removed from pandas in a future version. Use pandas.concat instead.\n",
      "  df = df.append(emotion_tseries_list[j]['sadness'])\n",
      "100%|██████████| 22/22 [00:00<00:00, 93.49it/s]\n"
     ]
    }
   ],
   "source": [
    "isc_list = []\n",
    "for i in tqdm(group_list):\n",
    "    subjects = dyad.get_group(str(i))\n",
    "#     print(subjects)\n",
    "    sub1 = subjects.iloc[0,0]\n",
    "    sub2 = subjects.iloc[1,0]\n",
    "#     print(sub1)\n",
    "#     print(sub2)\n",
    "    emotion_tseries_list = []\n",
    "    emotion_tseries1 = pd.read_csv('/Users/chenyuchieh/Desktop/SED_facial/Data/SED/emotion_interpo_fps1/'+sub1+'.csv').drop(\"Unnamed: 0\",axis=1)\n",
    "    emotion_tseries2 = pd.read_csv('/Users/chenyuchieh/Desktop/SED_facial/Data/SED/emotion_interpo_fps1/'+sub2+'.csv').drop(\"Unnamed: 0\",axis=1)\n",
    "    emotion_tseries_list.append(emotion_tseries1)\n",
    "    emotion_tseries_list.append(emotion_tseries2)\n",
    "    df = pd.DataFrame()\n",
    "    for j in range(len(emotion_tseries_list)):\n",
    "         df = df.append(emotion_tseries_list[j]['sadness'])\n",
    "#     print(df)\n",
    "    isc = 1 - spatial.distance.pdist(df, metric = 'correlation')\n",
    "    isc_list.append(isc)\n",
    "isc_list = pd.DataFrame(isc_list)"
   ]
  },
  {
   "cell_type": "code",
   "execution_count": 182,
   "id": "68e258eb",
   "metadata": {
    "scrolled": true
   },
   "outputs": [
    {
     "data": {
      "image/png": "[encoded data removed]",
      "text/plain": [
       "<Figure size 640x480 with 1 Axes>"
      ]
     },
     "metadata": {},
     "output_type": "display_data"
    }
   ],
   "source": [
    "sns.histplot(data=isc_list, legend = False, palette = ['#ea9999']).set_title('RD_sadness')\n",
    "plt.savefig(os.path.join(fpath,'Result','ISC_RD_sadness.png'), dpi=300)"
   ]
  },
  {
   "cell_type": "markdown",
   "id": "5235b772",
   "metadata": {},
   "source": [
    "## Surprise"
   ]
  },
  {
   "cell_type": "code",
   "execution_count": 183,
   "id": "698ef402",
   "metadata": {},
   "outputs": [
    {
     "name": "stderr",
     "output_type": "stream",
     "text": [
      "  0%|          | 0/22 [00:00<?, ?it/s]<ipython-input-183-367cd90b6112>:16: FutureWarning: The frame.append method is deprecated and will be removed from pandas in a future version. Use pandas.concat instead.\n",
      "  df = df.append(emotion_tseries_list[j]['surprise'])\n",
      "<ipython-input-183-367cd90b6112>:16: FutureWarning: The frame.append method is deprecated and will be removed from pandas in a future version. Use pandas.concat instead.\n",
      "  df = df.append(emotion_tseries_list[j]['surprise'])\n",
      "<ipython-input-183-367cd90b6112>:16: FutureWarning: The frame.append method is deprecated and will be removed from pandas in a future version. Use pandas.concat instead.\n",
      "  df = df.append(emotion_tseries_list[j]['surprise'])\n",
      "<ipython-input-183-367cd90b6112>:16: FutureWarning: The frame.append method is deprecated and will be removed from pandas in a future version. Use pandas.concat instead.\n",
      "  df = df.append(emotion_tseries_list[j]['surprise'])\n",
      "<ipython-input-183-367cd90b6112>:16: FutureWarning: The frame.append method is deprecated and will be removed from pandas in a future version. Use pandas.concat instead.\n",
      "  df = df.append(emotion_tseries_list[j]['surprise'])\n",
      "<ipython-input-183-367cd90b6112>:16: FutureWarning: The frame.append method is deprecated and will be removed from pandas in a future version. Use pandas.concat instead.\n",
      "  df = df.append(emotion_tseries_list[j]['surprise'])\n",
      "<ipython-input-183-367cd90b6112>:16: FutureWarning: The frame.append method is deprecated and will be removed from pandas in a future version. Use pandas.concat instead.\n",
      "  df = df.append(emotion_tseries_list[j]['surprise'])\n",
      "<ipython-input-183-367cd90b6112>:16: FutureWarning: The frame.append method is deprecated and will be removed from pandas in a future version. Use pandas.concat instead.\n",
      "  df = df.append(emotion_tseries_list[j]['surprise'])\n",
      "<ipython-input-183-367cd90b6112>:16: FutureWarning: The frame.append method is deprecated and will be removed from pandas in a future version. Use pandas.concat instead.\n",
      "  df = df.append(emotion_tseries_list[j]['surprise'])\n",
      "<ipython-input-183-367cd90b6112>:16: FutureWarning: The frame.append method is deprecated and will be removed from pandas in a future version. Use pandas.concat instead.\n",
      "  df = df.append(emotion_tseries_list[j]['surprise'])\n",
      "<ipython-input-183-367cd90b6112>:16: FutureWarning: The frame.append method is deprecated and will be removed from pandas in a future version. Use pandas.concat instead.\n",
      "  df = df.append(emotion_tseries_list[j]['surprise'])\n",
      "<ipython-input-183-367cd90b6112>:16: FutureWarning: The frame.append method is deprecated and will be removed from pandas in a future version. Use pandas.concat instead.\n",
      "  df = df.append(emotion_tseries_list[j]['surprise'])\n",
      "<ipython-input-183-367cd90b6112>:16: FutureWarning: The frame.append method is deprecated and will be removed from pandas in a future version. Use pandas.concat instead.\n",
      "  df = df.append(emotion_tseries_list[j]['surprise'])\n",
      "<ipython-input-183-367cd90b6112>:16: FutureWarning: The frame.append method is deprecated and will be removed from pandas in a future version. Use pandas.concat instead.\n",
      "  df = df.append(emotion_tseries_list[j]['surprise'])\n",
      "<ipython-input-183-367cd90b6112>:16: FutureWarning: The frame.append method is deprecated and will be removed from pandas in a future version. Use pandas.concat instead.\n",
      "  df = df.append(emotion_tseries_list[j]['surprise'])\n",
      "<ipython-input-183-367cd90b6112>:16: FutureWarning: The frame.append method is deprecated and will be removed from pandas in a future version. Use pandas.concat instead.\n",
      "  df = df.append(emotion_tseries_list[j]['surprise'])\n",
      "<ipython-input-183-367cd90b6112>:16: FutureWarning: The frame.append method is deprecated and will be removed from pandas in a future version. Use pandas.concat instead.\n",
      "  df = df.append(emotion_tseries_list[j]['surprise'])\n",
      "<ipython-input-183-367cd90b6112>:16: FutureWarning: The frame.append method is deprecated and will be removed from pandas in a future version. Use pandas.concat instead.\n",
      "  df = df.append(emotion_tseries_list[j]['surprise'])\n",
      "<ipython-input-183-367cd90b6112>:16: FutureWarning: The frame.append method is deprecated and will be removed from pandas in a future version. Use pandas.concat instead.\n",
      "  df = df.append(emotion_tseries_list[j]['surprise'])\n",
      "<ipython-input-183-367cd90b6112>:16: FutureWarning: The frame.append method is deprecated and will be removed from pandas in a future version. Use pandas.concat instead.\n",
      "  df = df.append(emotion_tseries_list[j]['surprise'])\n",
      " 45%|████▌     | 10/22 [00:00<00:00, 96.27it/s]<ipython-input-183-367cd90b6112>:16: FutureWarning: The frame.append method is deprecated and will be removed from pandas in a future version. Use pandas.concat instead.\n",
      "  df = df.append(emotion_tseries_list[j]['surprise'])\n",
      "<ipython-input-183-367cd90b6112>:16: FutureWarning: The frame.append method is deprecated and will be removed from pandas in a future version. Use pandas.concat instead.\n",
      "  df = df.append(emotion_tseries_list[j]['surprise'])\n",
      "<ipython-input-183-367cd90b6112>:16: FutureWarning: The frame.append method is deprecated and will be removed from pandas in a future version. Use pandas.concat instead.\n",
      "  df = df.append(emotion_tseries_list[j]['surprise'])\n",
      "<ipython-input-183-367cd90b6112>:16: FutureWarning: The frame.append method is deprecated and will be removed from pandas in a future version. Use pandas.concat instead.\n",
      "  df = df.append(emotion_tseries_list[j]['surprise'])\n",
      "<ipython-input-183-367cd90b6112>:16: FutureWarning: The frame.append method is deprecated and will be removed from pandas in a future version. Use pandas.concat instead.\n",
      "  df = df.append(emotion_tseries_list[j]['surprise'])\n",
      "<ipython-input-183-367cd90b6112>:16: FutureWarning: The frame.append method is deprecated and will be removed from pandas in a future version. Use pandas.concat instead.\n",
      "  df = df.append(emotion_tseries_list[j]['surprise'])\n",
      "<ipython-input-183-367cd90b6112>:16: FutureWarning: The frame.append method is deprecated and will be removed from pandas in a future version. Use pandas.concat instead.\n",
      "  df = df.append(emotion_tseries_list[j]['surprise'])\n",
      "<ipython-input-183-367cd90b6112>:16: FutureWarning: The frame.append method is deprecated and will be removed from pandas in a future version. Use pandas.concat instead.\n",
      "  df = df.append(emotion_tseries_list[j]['surprise'])\n",
      "<ipython-input-183-367cd90b6112>:16: FutureWarning: The frame.append method is deprecated and will be removed from pandas in a future version. Use pandas.concat instead.\n",
      "  df = df.append(emotion_tseries_list[j]['surprise'])\n",
      "<ipython-input-183-367cd90b6112>:16: FutureWarning: The frame.append method is deprecated and will be removed from pandas in a future version. Use pandas.concat instead.\n",
      "  df = df.append(emotion_tseries_list[j]['surprise'])\n",
      "<ipython-input-183-367cd90b6112>:16: FutureWarning: The frame.append method is deprecated and will be removed from pandas in a future version. Use pandas.concat instead.\n",
      "  df = df.append(emotion_tseries_list[j]['surprise'])\n",
      "<ipython-input-183-367cd90b6112>:16: FutureWarning: The frame.append method is deprecated and will be removed from pandas in a future version. Use pandas.concat instead.\n",
      "  df = df.append(emotion_tseries_list[j]['surprise'])\n",
      "<ipython-input-183-367cd90b6112>:16: FutureWarning: The frame.append method is deprecated and will be removed from pandas in a future version. Use pandas.concat instead.\n",
      "  df = df.append(emotion_tseries_list[j]['surprise'])\n",
      "<ipython-input-183-367cd90b6112>:16: FutureWarning: The frame.append method is deprecated and will be removed from pandas in a future version. Use pandas.concat instead.\n",
      "  df = df.append(emotion_tseries_list[j]['surprise'])\n",
      "<ipython-input-183-367cd90b6112>:16: FutureWarning: The frame.append method is deprecated and will be removed from pandas in a future version. Use pandas.concat instead.\n",
      "  df = df.append(emotion_tseries_list[j]['surprise'])\n",
      "<ipython-input-183-367cd90b6112>:16: FutureWarning: The frame.append method is deprecated and will be removed from pandas in a future version. Use pandas.concat instead.\n",
      "  df = df.append(emotion_tseries_list[j]['surprise'])\n",
      "<ipython-input-183-367cd90b6112>:16: FutureWarning: The frame.append method is deprecated and will be removed from pandas in a future version. Use pandas.concat instead.\n",
      "  df = df.append(emotion_tseries_list[j]['surprise'])\n",
      "<ipython-input-183-367cd90b6112>:16: FutureWarning: The frame.append method is deprecated and will be removed from pandas in a future version. Use pandas.concat instead.\n",
      "  df = df.append(emotion_tseries_list[j]['surprise'])\n"
     ]
    },
    {
     "name": "stderr",
     "output_type": "stream",
     "text": [
      "<ipython-input-183-367cd90b6112>:16: FutureWarning: The frame.append method is deprecated and will be removed from pandas in a future version. Use pandas.concat instead.\n",
      "  df = df.append(emotion_tseries_list[j]['surprise'])\n",
      "<ipython-input-183-367cd90b6112>:16: FutureWarning: The frame.append method is deprecated and will be removed from pandas in a future version. Use pandas.concat instead.\n",
      "  df = df.append(emotion_tseries_list[j]['surprise'])\n",
      "<ipython-input-183-367cd90b6112>:16: FutureWarning: The frame.append method is deprecated and will be removed from pandas in a future version. Use pandas.concat instead.\n",
      "  df = df.append(emotion_tseries_list[j]['surprise'])\n",
      "<ipython-input-183-367cd90b6112>:16: FutureWarning: The frame.append method is deprecated and will be removed from pandas in a future version. Use pandas.concat instead.\n",
      "  df = df.append(emotion_tseries_list[j]['surprise'])\n",
      " 95%|█████████▌| 21/22 [00:00<00:00, 99.11it/s]<ipython-input-183-367cd90b6112>:16: FutureWarning: The frame.append method is deprecated and will be removed from pandas in a future version. Use pandas.concat instead.\n",
      "  df = df.append(emotion_tseries_list[j]['surprise'])\n",
      "<ipython-input-183-367cd90b6112>:16: FutureWarning: The frame.append method is deprecated and will be removed from pandas in a future version. Use pandas.concat instead.\n",
      "  df = df.append(emotion_tseries_list[j]['surprise'])\n",
      "100%|██████████| 22/22 [00:00<00:00, 98.05it/s]\n"
     ]
    }
   ],
   "source": [
    "isc_list = []\n",
    "for i in tqdm(group_list):\n",
    "    subjects = dyad.get_group(str(i))\n",
    "#     print(subjects)\n",
    "    sub1 = subjects.iloc[0,0]\n",
    "    sub2 = subjects.iloc[1,0]\n",
    "#     print(sub1)\n",
    "#     print(sub2)\n",
    "    emotion_tseries_list = []\n",
    "    emotion_tseries1 = pd.read_csv('/Users/chenyuchieh/Desktop/SED_facial/Data/SED/emotion_interpo_fps1/'+sub1+'.csv').drop(\"Unnamed: 0\",axis=1)\n",
    "    emotion_tseries2 = pd.read_csv('/Users/chenyuchieh/Desktop/SED_facial/Data/SED/emotion_interpo_fps1/'+sub2+'.csv').drop(\"Unnamed: 0\",axis=1)\n",
    "    emotion_tseries_list.append(emotion_tseries1)\n",
    "    emotion_tseries_list.append(emotion_tseries2)\n",
    "    df = pd.DataFrame()\n",
    "    for j in range(len(emotion_tseries_list)):\n",
    "         df = df.append(emotion_tseries_list[j]['surprise'])\n",
    "#     print(df)\n",
    "    isc = 1 - spatial.distance.pdist(df, metric = 'correlation')\n",
    "    isc_list.append(isc)\n",
    "isc_list = pd.DataFrame(isc_list)"
   ]
  },
  {
   "cell_type": "code",
   "execution_count": 184,
   "id": "ca7870c5",
   "metadata": {
    "scrolled": true
   },
   "outputs": [
    {
     "data": {
      "image/png": "[encoded data removed]",
      "text/plain": [
       "<Figure size 640x480 with 1 Axes>"
      ]
     },
     "metadata": {},
     "output_type": "display_data"
    }
   ],
   "source": [
    "sns.histplot(data=isc_list, legend = False, palette = ['#ea9999']).set_title('RD_surprise')\n",
    "plt.savefig(os.path.join(fpath,'Result','ISC_RD_surprise.png'), dpi=300)"
   ]
  },
  {
   "cell_type": "markdown",
   "id": "d7f97b4a",
   "metadata": {},
   "source": [
    "# Pseudo Dyad (PD) ISC"
   ]
  },
  {
   "cell_type": "markdown",
   "id": "ae7ac19e",
   "metadata": {},
   "source": [
    "## Anger"
   ]
  },
  {
   "cell_type": "code",
   "execution_count": 185,
   "id": "7cae5a20",
   "metadata": {},
   "outputs": [
    {
     "name": "stderr",
     "output_type": "stream",
     "text": [
      "100%|██████████| 50/50 [00:00<00:00, 279.07it/s]\n"
     ]
    }
   ],
   "source": [
    "emotion_tseries_list = []\n",
    "\n",
    "for sub in tqdm(sub_paths):\n",
    "    sub_id = sub.split('/')[-1].split('_')[0].split('.')[0]\n",
    "    if sub_id in sub_list:\n",
    "        emotion_tseries = pd.read_csv(sub)['anger']\n",
    "#         print(sub_id)\n",
    "#         print(emotion_tseries)\n",
    "        emotion_tseries_list.append(emotion_tseries)"
   ]
  },
  {
   "cell_type": "code",
   "execution_count": 186,
   "id": "e1076def",
   "metadata": {
    "scrolled": true
   },
   "outputs": [],
   "source": [
    "df = emotion_tseries_list\n",
    "isc_list = []\n",
    "\n",
    "isc = 1 - spatial.distance.pdist(df, metric = 'correlation')\n",
    "isc_list.append(isc)"
   ]
  },
  {
   "cell_type": "code",
   "execution_count": 187,
   "id": "844e6393",
   "metadata": {},
   "outputs": [
    {
     "data": {
      "image/png": "[encoded data removed]",
      "text/plain": [
       "<Figure size 640x480 with 1 Axes>"
      ]
     },
     "metadata": {},
     "output_type": "display_data"
    }
   ],
   "source": [
    "sns.histplot(data=isc_list, legend = False, palette = ['#ea9999']).set_title('PD_anger')\n",
    "plt.savefig(os.path.join(fpath,'Result','ISC_PD_anger.png'), dpi=300)"
   ]
  },
  {
   "cell_type": "markdown",
   "id": "e63a9423",
   "metadata": {},
   "source": [
    "## Disgust"
   ]
  },
  {
   "cell_type": "code",
   "execution_count": 188,
   "id": "40570885",
   "metadata": {},
   "outputs": [
    {
     "name": "stderr",
     "output_type": "stream",
     "text": [
      "100%|██████████| 50/50 [00:00<00:00, 267.39it/s]\n"
     ]
    }
   ],
   "source": [
    "emotion_tseries_list = []\n",
    "\n",
    "for sub in tqdm(sub_paths):\n",
    "    sub_id = sub.split('/')[-1].split('_')[0].split('.')[0]\n",
    "    if sub_id in sub_list:\n",
    "        emotion_tseries = pd.read_csv(sub)['disgust']\n",
    "#         print(sub_id)\n",
    "#         print(emotion_tseries)\n",
    "        emotion_tseries_list.append(emotion_tseries)"
   ]
  },
  {
   "cell_type": "code",
   "execution_count": 189,
   "id": "65fc3ea0",
   "metadata": {
    "scrolled": true
   },
   "outputs": [],
   "source": [
    "df = emotion_tseries_list\n",
    "isc_list = []\n",
    "\n",
    "isc = 1 - spatial.distance.pdist(df, metric = 'correlation')\n",
    "isc_list.append(isc)"
   ]
  },
  {
   "cell_type": "code",
   "execution_count": 190,
   "id": "ea740385",
   "metadata": {},
   "outputs": [
    {
     "data": {
      "image/png": "[encoded data removed]",
      "text/plain": [
       "<Figure size 640x480 with 1 Axes>"
      ]
     },
     "metadata": {},
     "output_type": "display_data"
    }
   ],
   "source": [
    "sns.histplot(data=isc_list, legend = False, palette = ['#ea9999']).set_title('PD_disgust')\n",
    "plt.savefig(os.path.join(fpath,'Result','ISC_PD_disgust.png'), dpi=300)"
   ]
  },
  {
   "cell_type": "markdown",
   "id": "ca037544",
   "metadata": {},
   "source": [
    "## Fear"
   ]
  },
  {
   "cell_type": "code",
   "execution_count": 191,
   "id": "6cfd2139",
   "metadata": {},
   "outputs": [
    {
     "name": "stderr",
     "output_type": "stream",
     "text": [
      "100%|██████████| 50/50 [00:00<00:00, 272.58it/s]\n"
     ]
    }
   ],
   "source": [
    "emotion_tseries_list = []\n",
    "\n",
    "for sub in tqdm(sub_paths):\n",
    "    sub_id = sub.split('/')[-1].split('_')[0].split('.')[0]\n",
    "    if sub_id in sub_list:\n",
    "        emotion_tseries = pd.read_csv(sub)['fear']\n",
    "#         print(sub_id)\n",
    "#         print(emotion_tseries)\n",
    "        emotion_tseries_list.append(emotion_tseries)"
   ]
  },
  {
   "cell_type": "code",
   "execution_count": 192,
   "id": "9d718768",
   "metadata": {
    "scrolled": true
   },
   "outputs": [],
   "source": [
    "df = emotion_tseries_list\n",
    "isc_list = []\n",
    "\n",
    "isc = 1 - spatial.distance.pdist(df, metric = 'correlation')\n",
    "isc_list.append(isc)"
   ]
  },
  {
   "cell_type": "code",
   "execution_count": 193,
   "id": "7c3d8e64",
   "metadata": {},
   "outputs": [
    {
     "data": {
      "image/png": "[encoded data removed]",
      "text/plain": [
       "<Figure size 640x480 with 1 Axes>"
      ]
     },
     "metadata": {},
     "output_type": "display_data"
    }
   ],
   "source": [
    "sns.histplot(data=isc_list, legend = False, palette = ['#ea9999']).set_title('PD_fear')\n",
    "plt.savefig(os.path.join(fpath,'Result','ISC_PD_fear.png'), dpi=300)"
   ]
  },
  {
   "cell_type": "markdown",
   "id": "b8069ba4",
   "metadata": {},
   "source": [
    "## Happiness"
   ]
  },
  {
   "cell_type": "code",
   "execution_count": 194,
   "id": "e6159767",
   "metadata": {},
   "outputs": [
    {
     "name": "stderr",
     "output_type": "stream",
     "text": [
      "100%|██████████| 50/50 [00:00<00:00, 286.14it/s]\n"
     ]
    }
   ],
   "source": [
    "emotion_tseries_list = []\n",
    "\n",
    "for sub in tqdm(sub_paths):\n",
    "    sub_id = sub.split('/')[-1].split('_')[0].split('.')[0]\n",
    "    if sub_id in sub_list:\n",
    "        emotion_tseries = pd.read_csv(sub)['happiness']\n",
    "#         print(sub_id)\n",
    "#         print(emotion_tseries)\n",
    "        emotion_tseries_list.append(emotion_tseries)"
   ]
  },
  {
   "cell_type": "code",
   "execution_count": 195,
   "id": "64097774",
   "metadata": {
    "scrolled": true
   },
   "outputs": [],
   "source": [
    "df = emotion_tseries_list\n",
    "isc_list = []\n",
    "\n",
    "isc = 1 - spatial.distance.pdist(df, metric = 'correlation')\n",
    "isc_list.append(isc)"
   ]
  },
  {
   "cell_type": "code",
   "execution_count": 196,
   "id": "a40744e9",
   "metadata": {},
   "outputs": [
    {
     "data": {
      "image/png": "[encoded data removed]",
      "text/plain": [
       "<Figure size 640x480 with 1 Axes>"
      ]
     },
     "metadata": {},
     "output_type": "display_data"
    }
   ],
   "source": [
    "sns.histplot(data=isc_list, legend = False, palette = ['#ea9999']).set_title('PD_happiness')\n",
    "plt.savefig(os.path.join(fpath,'Result','ISC_PD_happiness.png'), dpi=300)"
   ]
  },
  {
   "cell_type": "markdown",
   "id": "06ca0148",
   "metadata": {},
   "source": [
    "## Sadness"
   ]
  },
  {
   "cell_type": "code",
   "execution_count": 197,
   "id": "044e1852",
   "metadata": {},
   "outputs": [
    {
     "name": "stderr",
     "output_type": "stream",
     "text": [
      "100%|██████████| 50/50 [00:00<00:00, 265.25it/s]\n"
     ]
    }
   ],
   "source": [
    "emotion_tseries_list = []\n",
    "\n",
    "for sub in tqdm(sub_paths):\n",
    "    sub_id = sub.split('/')[-1].split('_')[0].split('.')[0]\n",
    "    if sub_id in sub_list:\n",
    "        emotion_tseries = pd.read_csv(sub)['sadness']\n",
    "#         print(sub_id)\n",
    "#         print(emotion_tseries)\n",
    "        emotion_tseries_list.append(emotion_tseries)"
   ]
  },
  {
   "cell_type": "code",
   "execution_count": 198,
   "id": "18f87408",
   "metadata": {
    "scrolled": true
   },
   "outputs": [],
   "source": [
    "df = emotion_tseries_list\n",
    "isc_list = []\n",
    "\n",
    "isc = 1 - spatial.distance.pdist(df, metric = 'correlation')\n",
    "isc_list.append(isc)"
   ]
  },
  {
   "cell_type": "code",
   "execution_count": 199,
   "id": "0a68dac5",
   "metadata": {},
   "outputs": [
    {
     "data": {
      "image/png": "[encoded data removed]",
      "text/plain": [
       "<Figure size 640x480 with 1 Axes>"
      ]
     },
     "metadata": {},
     "output_type": "display_data"
    }
   ],
   "source": [
    "sns.histplot(data=isc_list, legend = False, palette = ['#ea9999']).set_title('PD_sadness')\n",
    "plt.savefig(os.path.join(fpath,'Result','ISC_PD_sadness.png'), dpi=300)"
   ]
  },
  {
   "cell_type": "markdown",
   "id": "afeba66b",
   "metadata": {},
   "source": [
    "## Surprise"
   ]
  },
  {
   "cell_type": "code",
   "execution_count": 200,
   "id": "b7e2e613",
   "metadata": {},
   "outputs": [
    {
     "name": "stderr",
     "output_type": "stream",
     "text": [
      "100%|██████████| 50/50 [00:00<00:00, 266.86it/s]\n"
     ]
    }
   ],
   "source": [
    "emotion_tseries_list = []\n",
    "\n",
    "for sub in tqdm(sub_paths):\n",
    "    sub_id = sub.split('/')[-1].split('_')[0].split('.')[0]\n",
    "    if sub_id in sub_list:\n",
    "        emotion_tseries = pd.read_csv(sub)['surprise']\n",
    "#         print(sub_id)\n",
    "#         print(emotion_tseries)\n",
    "        emotion_tseries_list.append(emotion_tseries)"
   ]
  },
  {
   "cell_type": "code",
   "execution_count": 201,
   "id": "e1a9772b",
   "metadata": {
    "scrolled": true
   },
   "outputs": [],
   "source": [
    "df = emotion_tseries_list\n",
    "isc_list = []\n",
    "\n",
    "isc = 1 - spatial.distance.pdist(df, metric = 'correlation')\n",
    "isc_list.append(isc)"
   ]
  },
  {
   "cell_type": "code",
   "execution_count": 202,
   "id": "a8a166ef",
   "metadata": {},
   "outputs": [
    {
     "data": {
      "image/png": "[encoded data removed]",
      "text/plain": [
       "<Figure size 640x480 with 1 Axes>"
      ]
     },
     "metadata": {},
     "output_type": "display_data"
    }
   ],
   "source": [
    "sns.histplot(data=isc_list, legend = False, palette = ['#ea9999']).set_title('PD_surprise')\n",
    "plt.savefig(os.path.join(fpath,'Result','ISC_PD_surprise.png'), dpi=300)"
   ]
  },
  {
   "cell_type": "markdown",
   "id": "52cb9e22",
   "metadata": {},
   "source": [
    "# Alone (A) ISC"
   ]
  },
  {
   "cell_type": "code",
   "execution_count": 203,
   "id": "8144c1cf",
   "metadata": {},
   "outputs": [
    {
     "data": {
      "text/html": [
       "<div>\n",
       "<style scoped>\n",
       "    .dataframe tbody tr th:only-of-type {\n",
       "        vertical-align: middle;\n",
       "    }\n",
       "\n",
       "    .dataframe tbody tr th {\n",
       "        vertical-align: top;\n",
       "    }\n",
       "\n",
       "    .dataframe thead th {\n",
       "        text-align: right;\n",
       "    }\n",
       "</style>\n",
       "<table border=\"1\" class=\"dataframe\">\n",
       "  <thead>\n",
       "    <tr style=\"text-align: right;\">\n",
       "      <th></th>\n",
       "      <th>ID</th>\n",
       "      <th>pre_att</th>\n",
       "      <th>post_att</th>\n",
       "      <th>pre_att_dyads</th>\n",
       "      <th>facial</th>\n",
       "    </tr>\n",
       "  </thead>\n",
       "  <tbody>\n",
       "    <tr>\n",
       "      <th>0</th>\n",
       "      <td>SES001</td>\n",
       "      <td>41</td>\n",
       "      <td>36</td>\n",
       "      <td>against</td>\n",
       "      <td>Y</td>\n",
       "    </tr>\n",
       "    <tr>\n",
       "      <th>1</th>\n",
       "      <td>SES002</td>\n",
       "      <td>76</td>\n",
       "      <td>76</td>\n",
       "      <td>support</td>\n",
       "      <td>Y</td>\n",
       "    </tr>\n",
       "    <tr>\n",
       "      <th>3</th>\n",
       "      <td>SES004</td>\n",
       "      <td>67</td>\n",
       "      <td>67</td>\n",
       "      <td>useless</td>\n",
       "      <td>Y</td>\n",
       "    </tr>\n",
       "    <tr>\n",
       "      <th>4</th>\n",
       "      <td>SES005</td>\n",
       "      <td>55</td>\n",
       "      <td>56</td>\n",
       "      <td>against</td>\n",
       "      <td>Y</td>\n",
       "    </tr>\n",
       "    <tr>\n",
       "      <th>5</th>\n",
       "      <td>SES006</td>\n",
       "      <td>66</td>\n",
       "      <td>54</td>\n",
       "      <td>useless</td>\n",
       "      <td>Y</td>\n",
       "    </tr>\n",
       "    <tr>\n",
       "      <th>6</th>\n",
       "      <td>SES007</td>\n",
       "      <td>63</td>\n",
       "      <td>64</td>\n",
       "      <td>useless</td>\n",
       "      <td>Y</td>\n",
       "    </tr>\n",
       "    <tr>\n",
       "      <th>7</th>\n",
       "      <td>SES008</td>\n",
       "      <td>58</td>\n",
       "      <td>49</td>\n",
       "      <td>against</td>\n",
       "      <td>Y</td>\n",
       "    </tr>\n",
       "    <tr>\n",
       "      <th>8</th>\n",
       "      <td>SES009</td>\n",
       "      <td>80</td>\n",
       "      <td>57</td>\n",
       "      <td>support</td>\n",
       "      <td>Y</td>\n",
       "    </tr>\n",
       "    <tr>\n",
       "      <th>9</th>\n",
       "      <td>SES010</td>\n",
       "      <td>70</td>\n",
       "      <td>83</td>\n",
       "      <td>support</td>\n",
       "      <td>Y</td>\n",
       "    </tr>\n",
       "    <tr>\n",
       "      <th>10</th>\n",
       "      <td>SES011</td>\n",
       "      <td>69</td>\n",
       "      <td>67</td>\n",
       "      <td>support</td>\n",
       "      <td>Y</td>\n",
       "    </tr>\n",
       "    <tr>\n",
       "      <th>11</th>\n",
       "      <td>SES012</td>\n",
       "      <td>64</td>\n",
       "      <td>58</td>\n",
       "      <td>useless</td>\n",
       "      <td>Y</td>\n",
       "    </tr>\n",
       "    <tr>\n",
       "      <th>12</th>\n",
       "      <td>SES013</td>\n",
       "      <td>72</td>\n",
       "      <td>54</td>\n",
       "      <td>support</td>\n",
       "      <td>Y</td>\n",
       "    </tr>\n",
       "    <tr>\n",
       "      <th>13</th>\n",
       "      <td>SES014</td>\n",
       "      <td>75</td>\n",
       "      <td>68</td>\n",
       "      <td>support</td>\n",
       "      <td>Y</td>\n",
       "    </tr>\n",
       "    <tr>\n",
       "      <th>15</th>\n",
       "      <td>SES016</td>\n",
       "      <td>85</td>\n",
       "      <td>87</td>\n",
       "      <td>support</td>\n",
       "      <td>Y</td>\n",
       "    </tr>\n",
       "    <tr>\n",
       "      <th>16</th>\n",
       "      <td>SES017</td>\n",
       "      <td>78</td>\n",
       "      <td>44</td>\n",
       "      <td>support</td>\n",
       "      <td>Y</td>\n",
       "    </tr>\n",
       "    <tr>\n",
       "      <th>17</th>\n",
       "      <td>SES018</td>\n",
       "      <td>58</td>\n",
       "      <td>59</td>\n",
       "      <td>against</td>\n",
       "      <td>Y</td>\n",
       "    </tr>\n",
       "    <tr>\n",
       "      <th>19</th>\n",
       "      <td>SES020</td>\n",
       "      <td>53</td>\n",
       "      <td>55</td>\n",
       "      <td>against</td>\n",
       "      <td>Y</td>\n",
       "    </tr>\n",
       "    <tr>\n",
       "      <th>20</th>\n",
       "      <td>SES021</td>\n",
       "      <td>64</td>\n",
       "      <td>64</td>\n",
       "      <td>useless</td>\n",
       "      <td>Y</td>\n",
       "    </tr>\n",
       "    <tr>\n",
       "      <th>21</th>\n",
       "      <td>SES022</td>\n",
       "      <td>51</td>\n",
       "      <td>53</td>\n",
       "      <td>against</td>\n",
       "      <td>Y</td>\n",
       "    </tr>\n",
       "    <tr>\n",
       "      <th>22</th>\n",
       "      <td>SES023</td>\n",
       "      <td>33</td>\n",
       "      <td>35</td>\n",
       "      <td>against</td>\n",
       "      <td>Y</td>\n",
       "    </tr>\n",
       "    <tr>\n",
       "      <th>23</th>\n",
       "      <td>SES024</td>\n",
       "      <td>86</td>\n",
       "      <td>94</td>\n",
       "      <td>support</td>\n",
       "      <td>Y</td>\n",
       "    </tr>\n",
       "    <tr>\n",
       "      <th>24</th>\n",
       "      <td>SES025</td>\n",
       "      <td>70</td>\n",
       "      <td>72</td>\n",
       "      <td>support</td>\n",
       "      <td>Y</td>\n",
       "    </tr>\n",
       "    <tr>\n",
       "      <th>25</th>\n",
       "      <td>SES026</td>\n",
       "      <td>74</td>\n",
       "      <td>61</td>\n",
       "      <td>support</td>\n",
       "      <td>Y</td>\n",
       "    </tr>\n",
       "    <tr>\n",
       "      <th>26</th>\n",
       "      <td>SES027</td>\n",
       "      <td>60</td>\n",
       "      <td>63</td>\n",
       "      <td>against</td>\n",
       "      <td>Y</td>\n",
       "    </tr>\n",
       "    <tr>\n",
       "      <th>28</th>\n",
       "      <td>SES029</td>\n",
       "      <td>60</td>\n",
       "      <td>56</td>\n",
       "      <td>against</td>\n",
       "      <td>Y</td>\n",
       "    </tr>\n",
       "    <tr>\n",
       "      <th>29</th>\n",
       "      <td>SES030</td>\n",
       "      <td>67</td>\n",
       "      <td>61</td>\n",
       "      <td>useless</td>\n",
       "      <td>Y</td>\n",
       "    </tr>\n",
       "    <tr>\n",
       "      <th>30</th>\n",
       "      <td>SES031</td>\n",
       "      <td>94</td>\n",
       "      <td>87</td>\n",
       "      <td>support</td>\n",
       "      <td>Y</td>\n",
       "    </tr>\n",
       "    <tr>\n",
       "      <th>31</th>\n",
       "      <td>SES032</td>\n",
       "      <td>63</td>\n",
       "      <td>56</td>\n",
       "      <td>useless</td>\n",
       "      <td>Y</td>\n",
       "    </tr>\n",
       "    <tr>\n",
       "      <th>32</th>\n",
       "      <td>SES033</td>\n",
       "      <td>51</td>\n",
       "      <td>48</td>\n",
       "      <td>against</td>\n",
       "      <td>Y</td>\n",
       "    </tr>\n",
       "    <tr>\n",
       "      <th>33</th>\n",
       "      <td>SES034</td>\n",
       "      <td>54</td>\n",
       "      <td>59</td>\n",
       "      <td>against</td>\n",
       "      <td>Y</td>\n",
       "    </tr>\n",
       "    <tr>\n",
       "      <th>34</th>\n",
       "      <td>SES035</td>\n",
       "      <td>59</td>\n",
       "      <td>55</td>\n",
       "      <td>against</td>\n",
       "      <td>Y</td>\n",
       "    </tr>\n",
       "    <tr>\n",
       "      <th>35</th>\n",
       "      <td>SES036</td>\n",
       "      <td>67</td>\n",
       "      <td>68</td>\n",
       "      <td>useless</td>\n",
       "      <td>Y</td>\n",
       "    </tr>\n",
       "    <tr>\n",
       "      <th>36</th>\n",
       "      <td>SES037</td>\n",
       "      <td>95</td>\n",
       "      <td>88</td>\n",
       "      <td>support</td>\n",
       "      <td>Y</td>\n",
       "    </tr>\n",
       "    <tr>\n",
       "      <th>37</th>\n",
       "      <td>SES038</td>\n",
       "      <td>67</td>\n",
       "      <td>72</td>\n",
       "      <td>useless</td>\n",
       "      <td>Y</td>\n",
       "    </tr>\n",
       "    <tr>\n",
       "      <th>38</th>\n",
       "      <td>SES039</td>\n",
       "      <td>53</td>\n",
       "      <td>48</td>\n",
       "      <td>against</td>\n",
       "      <td>Y</td>\n",
       "    </tr>\n",
       "    <tr>\n",
       "      <th>39</th>\n",
       "      <td>SES040</td>\n",
       "      <td>64</td>\n",
       "      <td>68</td>\n",
       "      <td>useless</td>\n",
       "      <td>Y</td>\n",
       "    </tr>\n",
       "    <tr>\n",
       "      <th>40</th>\n",
       "      <td>SES041</td>\n",
       "      <td>62</td>\n",
       "      <td>66</td>\n",
       "      <td>useless</td>\n",
       "      <td>Y</td>\n",
       "    </tr>\n",
       "    <tr>\n",
       "      <th>41</th>\n",
       "      <td>SES042</td>\n",
       "      <td>58</td>\n",
       "      <td>58</td>\n",
       "      <td>against</td>\n",
       "      <td>Y</td>\n",
       "    </tr>\n",
       "    <tr>\n",
       "      <th>42</th>\n",
       "      <td>SES043</td>\n",
       "      <td>69</td>\n",
       "      <td>67</td>\n",
       "      <td>support</td>\n",
       "      <td>Y</td>\n",
       "    </tr>\n",
       "    <tr>\n",
       "      <th>43</th>\n",
       "      <td>SES044</td>\n",
       "      <td>76</td>\n",
       "      <td>76</td>\n",
       "      <td>support</td>\n",
       "      <td>Y</td>\n",
       "    </tr>\n",
       "    <tr>\n",
       "      <th>44</th>\n",
       "      <td>SES046</td>\n",
       "      <td>71</td>\n",
       "      <td>66</td>\n",
       "      <td>support</td>\n",
       "      <td>Y</td>\n",
       "    </tr>\n",
       "    <tr>\n",
       "      <th>45</th>\n",
       "      <td>SES047</td>\n",
       "      <td>74</td>\n",
       "      <td>73</td>\n",
       "      <td>support</td>\n",
       "      <td>Y</td>\n",
       "    </tr>\n",
       "    <tr>\n",
       "      <th>46</th>\n",
       "      <td>SES048</td>\n",
       "      <td>68</td>\n",
       "      <td>74</td>\n",
       "      <td>useless</td>\n",
       "      <td>Y</td>\n",
       "    </tr>\n",
       "    <tr>\n",
       "      <th>47</th>\n",
       "      <td>SES049</td>\n",
       "      <td>71</td>\n",
       "      <td>61</td>\n",
       "      <td>support</td>\n",
       "      <td>Y</td>\n",
       "    </tr>\n",
       "    <tr>\n",
       "      <th>48</th>\n",
       "      <td>SES050</td>\n",
       "      <td>75</td>\n",
       "      <td>62</td>\n",
       "      <td>support</td>\n",
       "      <td>Y</td>\n",
       "    </tr>\n",
       "    <tr>\n",
       "      <th>49</th>\n",
       "      <td>SES051</td>\n",
       "      <td>77</td>\n",
       "      <td>74</td>\n",
       "      <td>support</td>\n",
       "      <td>Y</td>\n",
       "    </tr>\n",
       "    <tr>\n",
       "      <th>50</th>\n",
       "      <td>SES052</td>\n",
       "      <td>56</td>\n",
       "      <td>50</td>\n",
       "      <td>against</td>\n",
       "      <td>Y</td>\n",
       "    </tr>\n",
       "    <tr>\n",
       "      <th>51</th>\n",
       "      <td>SES053</td>\n",
       "      <td>72</td>\n",
       "      <td>71</td>\n",
       "      <td>support</td>\n",
       "      <td>Y</td>\n",
       "    </tr>\n",
       "  </tbody>\n",
       "</table>\n",
       "</div>"
      ],
      "text/plain": [
       "        ID  pre_att  post_att pre_att_dyads facial\n",
       "0   SES001       41        36       against      Y\n",
       "1   SES002       76        76       support      Y\n",
       "3   SES004       67        67       useless      Y\n",
       "4   SES005       55        56       against      Y\n",
       "5   SES006       66        54       useless      Y\n",
       "6   SES007       63        64       useless      Y\n",
       "7   SES008       58        49       against      Y\n",
       "8   SES009       80        57       support      Y\n",
       "9   SES010       70        83       support      Y\n",
       "10  SES011       69        67       support      Y\n",
       "11  SES012       64        58       useless      Y\n",
       "12  SES013       72        54       support      Y\n",
       "13  SES014       75        68       support      Y\n",
       "15  SES016       85        87       support      Y\n",
       "16  SES017       78        44       support      Y\n",
       "17  SES018       58        59       against      Y\n",
       "19  SES020       53        55       against      Y\n",
       "20  SES021       64        64       useless      Y\n",
       "21  SES022       51        53       against      Y\n",
       "22  SES023       33        35       against      Y\n",
       "23  SES024       86        94       support      Y\n",
       "24  SES025       70        72       support      Y\n",
       "25  SES026       74        61       support      Y\n",
       "26  SES027       60        63       against      Y\n",
       "28  SES029       60        56       against      Y\n",
       "29  SES030       67        61       useless      Y\n",
       "30  SES031       94        87       support      Y\n",
       "31  SES032       63        56       useless      Y\n",
       "32  SES033       51        48       against      Y\n",
       "33  SES034       54        59       against      Y\n",
       "34  SES035       59        55       against      Y\n",
       "35  SES036       67        68       useless      Y\n",
       "36  SES037       95        88       support      Y\n",
       "37  SES038       67        72       useless      Y\n",
       "38  SES039       53        48       against      Y\n",
       "39  SES040       64        68       useless      Y\n",
       "40  SES041       62        66       useless      Y\n",
       "41  SES042       58        58       against      Y\n",
       "42  SES043       69        67       support      Y\n",
       "43  SES044       76        76       support      Y\n",
       "44  SES046       71        66       support      Y\n",
       "45  SES047       74        73       support      Y\n",
       "46  SES048       68        74       useless      Y\n",
       "47  SES049       71        61       support      Y\n",
       "48  SES050       75        62       support      Y\n",
       "49  SES051       77        74       support      Y\n",
       "50  SES052       56        50       against      Y\n",
       "51  SES053       72        71       support      Y"
      ]
     },
     "execution_count": 203,
     "metadata": {},
     "output_type": "execute_result"
    }
   ],
   "source": [
    "alone = pd.read_csv((os.path.join(fpath, 'Data', 'SES', 'SES_subject list.csv')))\n",
    "# Drop the subject without facial data\n",
    "alone.drop(alone.index[alone['facial'] == 'N'], inplace=True)\n",
    "alone.drop(\"Unnamed: 0\",axis=1)"
   ]
  },
  {
   "cell_type": "code",
   "execution_count": 204,
   "id": "c152a0f4",
   "metadata": {},
   "outputs": [
    {
     "data": {
      "text/plain": [
       "['/Users/chenyuchieh/Desktop/SED_facial/Data/SES/emotion_interpo_fps1/SES001.csv',\n",
       " '/Users/chenyuchieh/Desktop/SED_facial/Data/SES/emotion_interpo_fps1/SES002.csv',\n",
       " '/Users/chenyuchieh/Desktop/SED_facial/Data/SES/emotion_interpo_fps1/SES004.csv',\n",
       " '/Users/chenyuchieh/Desktop/SED_facial/Data/SES/emotion_interpo_fps1/SES005.csv',\n",
       " '/Users/chenyuchieh/Desktop/SED_facial/Data/SES/emotion_interpo_fps1/SES006.csv',\n",
       " '/Users/chenyuchieh/Desktop/SED_facial/Data/SES/emotion_interpo_fps1/SES007.csv',\n",
       " '/Users/chenyuchieh/Desktop/SED_facial/Data/SES/emotion_interpo_fps1/SES008.csv',\n",
       " '/Users/chenyuchieh/Desktop/SED_facial/Data/SES/emotion_interpo_fps1/SES009.csv',\n",
       " '/Users/chenyuchieh/Desktop/SED_facial/Data/SES/emotion_interpo_fps1/SES010.csv',\n",
       " '/Users/chenyuchieh/Desktop/SED_facial/Data/SES/emotion_interpo_fps1/SES011.csv',\n",
       " '/Users/chenyuchieh/Desktop/SED_facial/Data/SES/emotion_interpo_fps1/SES012.csv',\n",
       " '/Users/chenyuchieh/Desktop/SED_facial/Data/SES/emotion_interpo_fps1/SES013.csv',\n",
       " '/Users/chenyuchieh/Desktop/SED_facial/Data/SES/emotion_interpo_fps1/SES014.csv',\n",
       " '/Users/chenyuchieh/Desktop/SED_facial/Data/SES/emotion_interpo_fps1/SES016.csv',\n",
       " '/Users/chenyuchieh/Desktop/SED_facial/Data/SES/emotion_interpo_fps1/SES017.csv',\n",
       " '/Users/chenyuchieh/Desktop/SED_facial/Data/SES/emotion_interpo_fps1/SES018.csv',\n",
       " '/Users/chenyuchieh/Desktop/SED_facial/Data/SES/emotion_interpo_fps1/SES020.csv',\n",
       " '/Users/chenyuchieh/Desktop/SED_facial/Data/SES/emotion_interpo_fps1/SES021.csv',\n",
       " '/Users/chenyuchieh/Desktop/SED_facial/Data/SES/emotion_interpo_fps1/SES022.csv',\n",
       " '/Users/chenyuchieh/Desktop/SED_facial/Data/SES/emotion_interpo_fps1/SES023.csv',\n",
       " '/Users/chenyuchieh/Desktop/SED_facial/Data/SES/emotion_interpo_fps1/SES024.csv',\n",
       " '/Users/chenyuchieh/Desktop/SED_facial/Data/SES/emotion_interpo_fps1/SES025.csv',\n",
       " '/Users/chenyuchieh/Desktop/SED_facial/Data/SES/emotion_interpo_fps1/SES026.csv',\n",
       " '/Users/chenyuchieh/Desktop/SED_facial/Data/SES/emotion_interpo_fps1/SES027.csv',\n",
       " '/Users/chenyuchieh/Desktop/SED_facial/Data/SES/emotion_interpo_fps1/SES029.csv',\n",
       " '/Users/chenyuchieh/Desktop/SED_facial/Data/SES/emotion_interpo_fps1/SES030.csv',\n",
       " '/Users/chenyuchieh/Desktop/SED_facial/Data/SES/emotion_interpo_fps1/SES031.csv',\n",
       " '/Users/chenyuchieh/Desktop/SED_facial/Data/SES/emotion_interpo_fps1/SES032.csv',\n",
       " '/Users/chenyuchieh/Desktop/SED_facial/Data/SES/emotion_interpo_fps1/SES033.csv',\n",
       " '/Users/chenyuchieh/Desktop/SED_facial/Data/SES/emotion_interpo_fps1/SES034.csv',\n",
       " '/Users/chenyuchieh/Desktop/SED_facial/Data/SES/emotion_interpo_fps1/SES035.csv',\n",
       " '/Users/chenyuchieh/Desktop/SED_facial/Data/SES/emotion_interpo_fps1/SES036.csv',\n",
       " '/Users/chenyuchieh/Desktop/SED_facial/Data/SES/emotion_interpo_fps1/SES037.csv',\n",
       " '/Users/chenyuchieh/Desktop/SED_facial/Data/SES/emotion_interpo_fps1/SES038.csv',\n",
       " '/Users/chenyuchieh/Desktop/SED_facial/Data/SES/emotion_interpo_fps1/SES039.csv',\n",
       " '/Users/chenyuchieh/Desktop/SED_facial/Data/SES/emotion_interpo_fps1/SES040.csv',\n",
       " '/Users/chenyuchieh/Desktop/SED_facial/Data/SES/emotion_interpo_fps1/SES041.csv',\n",
       " '/Users/chenyuchieh/Desktop/SED_facial/Data/SES/emotion_interpo_fps1/SES042.csv',\n",
       " '/Users/chenyuchieh/Desktop/SED_facial/Data/SES/emotion_interpo_fps1/SES043.csv',\n",
       " '/Users/chenyuchieh/Desktop/SED_facial/Data/SES/emotion_interpo_fps1/SES044.csv',\n",
       " '/Users/chenyuchieh/Desktop/SED_facial/Data/SES/emotion_interpo_fps1/SES046.csv',\n",
       " '/Users/chenyuchieh/Desktop/SED_facial/Data/SES/emotion_interpo_fps1/SES047.csv',\n",
       " '/Users/chenyuchieh/Desktop/SED_facial/Data/SES/emotion_interpo_fps1/SES048.csv',\n",
       " '/Users/chenyuchieh/Desktop/SED_facial/Data/SES/emotion_interpo_fps1/SES049.csv',\n",
       " '/Users/chenyuchieh/Desktop/SED_facial/Data/SES/emotion_interpo_fps1/SES050.csv',\n",
       " '/Users/chenyuchieh/Desktop/SED_facial/Data/SES/emotion_interpo_fps1/SES051.csv',\n",
       " '/Users/chenyuchieh/Desktop/SED_facial/Data/SES/emotion_interpo_fps1/SES052.csv',\n",
       " '/Users/chenyuchieh/Desktop/SED_facial/Data/SES/emotion_interpo_fps1/SES053.csv']"
      ]
     },
     "execution_count": 204,
     "metadata": {},
     "output_type": "execute_result"
    }
   ],
   "source": [
    "sub_paths = sorted(glob.glob(os.path.join(fpath, 'Data','SES', 'emotion_interpo_fps1', '*.csv')))\n",
    "sub_paths"
   ]
  },
  {
   "cell_type": "code",
   "execution_count": 205,
   "id": "62e3c627",
   "metadata": {},
   "outputs": [
    {
     "data": {
      "text/plain": [
       "['SES001',\n",
       " 'SES002',\n",
       " 'SES004',\n",
       " 'SES005',\n",
       " 'SES006',\n",
       " 'SES007',\n",
       " 'SES008',\n",
       " 'SES009',\n",
       " 'SES010',\n",
       " 'SES011',\n",
       " 'SES012',\n",
       " 'SES013',\n",
       " 'SES014',\n",
       " 'SES016',\n",
       " 'SES017',\n",
       " 'SES018',\n",
       " 'SES020',\n",
       " 'SES021',\n",
       " 'SES022',\n",
       " 'SES023',\n",
       " 'SES024',\n",
       " 'SES025',\n",
       " 'SES026',\n",
       " 'SES027',\n",
       " 'SES029',\n",
       " 'SES030',\n",
       " 'SES031',\n",
       " 'SES032',\n",
       " 'SES033',\n",
       " 'SES034',\n",
       " 'SES035',\n",
       " 'SES036',\n",
       " 'SES037',\n",
       " 'SES038',\n",
       " 'SES039',\n",
       " 'SES040',\n",
       " 'SES041',\n",
       " 'SES042',\n",
       " 'SES043',\n",
       " 'SES044',\n",
       " 'SES046',\n",
       " 'SES047',\n",
       " 'SES048',\n",
       " 'SES049',\n",
       " 'SES050',\n",
       " 'SES051',\n",
       " 'SES052',\n",
       " 'SES053']"
      ]
     },
     "execution_count": 205,
     "metadata": {},
     "output_type": "execute_result"
    }
   ],
   "source": [
    "sub_list = []\n",
    "for sub in sub_paths:\n",
    "    sub_id = sub.split('/')[-1].split('.')[0]\n",
    "    sub_list.append(sub_id)\n",
    "sub_list"
   ]
  },
  {
   "cell_type": "markdown",
   "id": "b8db8729",
   "metadata": {},
   "source": [
    "## Anger"
   ]
  },
  {
   "cell_type": "code",
   "execution_count": 206,
   "id": "2304a76a",
   "metadata": {},
   "outputs": [
    {
     "name": "stderr",
     "output_type": "stream",
     "text": [
      "100%|██████████| 48/48 [00:00<00:00, 182.22it/s]\n"
     ]
    }
   ],
   "source": [
    "emotion_tseries_list = []\n",
    "\n",
    "for sub in tqdm(sub_paths):\n",
    "    sub_id = sub.split('/')[-1].split('_')[0].split('.')[0]\n",
    "    if sub_id in sub_list:\n",
    "        emotion_tseries = pd.read_csv(sub)['anger']\n",
    "#         print(sub_id)\n",
    "#         print(emotion_tseries)\n",
    "        emotion_tseries_list.append(emotion_tseries)"
   ]
  },
  {
   "cell_type": "code",
   "execution_count": 207,
   "id": "c4b46667",
   "metadata": {
    "scrolled": true
   },
   "outputs": [],
   "source": [
    "df = emotion_tseries_list\n",
    "isc_list = []\n",
    "\n",
    "isc = 1 - spatial.distance.pdist(df, metric = 'correlation')\n",
    "isc_list.append(isc)"
   ]
  },
  {
   "cell_type": "code",
   "execution_count": 208,
   "id": "2762d0ee",
   "metadata": {},
   "outputs": [
    {
     "data": {
      "image/png": "[encoded data removed]",
      "text/plain": [
       "<Figure size 640x480 with 1 Axes>"
      ]
     },
     "metadata": {},
     "output_type": "display_data"
    }
   ],
   "source": [
    "sns.histplot(data=isc_list, legend = False, palette = ['#ea9999']).set_title('A_anger')\n",
    "plt.savefig(os.path.join(fpath,'Result','ISC_A_anger.png'), dpi=300)"
   ]
  },
  {
   "cell_type": "markdown",
   "id": "f25d5416",
   "metadata": {},
   "source": [
    "## Disgust"
   ]
  },
  {
   "cell_type": "code",
   "execution_count": 209,
   "id": "3a3d507f",
   "metadata": {},
   "outputs": [
    {
     "name": "stderr",
     "output_type": "stream",
     "text": [
      "100%|██████████| 48/48 [00:00<00:00, 242.88it/s]\n"
     ]
    }
   ],
   "source": [
    "emotion_tseries_list = []\n",
    "\n",
    "for sub in tqdm(sub_paths):\n",
    "    sub_id = sub.split('/')[-1].split('_')[0].split('.')[0]\n",
    "    if sub_id in sub_list:\n",
    "        emotion_tseries = pd.read_csv(sub)['disgust']\n",
    "#         print(sub_id)\n",
    "#         print(emotion_tseries)\n",
    "        emotion_tseries_list.append(emotion_tseries)"
   ]
  },
  {
   "cell_type": "code",
   "execution_count": 210,
   "id": "b024d82d",
   "metadata": {
    "scrolled": true
   },
   "outputs": [],
   "source": [
    "df = emotion_tseries_list\n",
    "isc_list = []\n",
    "\n",
    "isc = 1 - spatial.distance.pdist(df, metric = 'correlation')\n",
    "isc_list.append(isc)"
   ]
  },
  {
   "cell_type": "code",
   "execution_count": 211,
   "id": "c93a8cf5",
   "metadata": {},
   "outputs": [
    {
     "data": {
      "image/png": "[encoded data removed]",
      "text/plain": [
       "<Figure size 640x480 with 1 Axes>"
      ]
     },
     "metadata": {},
     "output_type": "display_data"
    }
   ],
   "source": [
    "sns.histplot(data=isc_list, legend = False, palette = ['#ea9999']).set_title('A_disgust')\n",
    "plt.savefig(os.path.join(fpath,'Result','ISC_A_disgust.png'), dpi=300)"
   ]
  },
  {
   "cell_type": "markdown",
   "id": "df9de30d",
   "metadata": {},
   "source": [
    "## Fear"
   ]
  },
  {
   "cell_type": "code",
   "execution_count": 212,
   "id": "7d3ebe76",
   "metadata": {},
   "outputs": [
    {
     "name": "stderr",
     "output_type": "stream",
     "text": [
      "100%|██████████| 48/48 [00:00<00:00, 244.04it/s]\n"
     ]
    }
   ],
   "source": [
    "emotion_tseries_list = []\n",
    "\n",
    "for sub in tqdm(sub_paths):\n",
    "    sub_id = sub.split('/')[-1].split('_')[0].split('.')[0]\n",
    "    if sub_id in sub_list:\n",
    "        emotion_tseries = pd.read_csv(sub)['fear']\n",
    "#         print(sub_id)\n",
    "#         print(emotion_tseries)\n",
    "        emotion_tseries_list.append(emotion_tseries)"
   ]
  },
  {
   "cell_type": "code",
   "execution_count": 213,
   "id": "6d3ae5a8",
   "metadata": {
    "scrolled": true
   },
   "outputs": [],
   "source": [
    "df = emotion_tseries_list\n",
    "isc_list = []\n",
    "\n",
    "isc = 1 - spatial.distance.pdist(df, metric = 'correlation')\n",
    "isc_list.append(isc)"
   ]
  },
  {
   "cell_type": "code",
   "execution_count": 214,
   "id": "6f93343d",
   "metadata": {},
   "outputs": [
    {
     "data": {
      "image/png": "[encoded data removed]",
      "text/plain": [
       "<Figure size 640x480 with 1 Axes>"
      ]
     },
     "metadata": {},
     "output_type": "display_data"
    }
   ],
   "source": [
    "sns.histplot(data=isc_list, legend = False, palette = ['#ea9999']).set_title('A_fear')\n",
    "plt.savefig(os.path.join(fpath,'Result','ISC_A_fear.png'), dpi=300)"
   ]
  },
  {
   "cell_type": "markdown",
   "id": "f7592567",
   "metadata": {},
   "source": [
    "## Happiness"
   ]
  },
  {
   "cell_type": "code",
   "execution_count": 215,
   "id": "0e0a4f3a",
   "metadata": {},
   "outputs": [
    {
     "name": "stderr",
     "output_type": "stream",
     "text": [
      "100%|██████████| 48/48 [00:00<00:00, 228.44it/s]\n"
     ]
    }
   ],
   "source": [
    "emotion_tseries_list = []\n",
    "\n",
    "for sub in tqdm(sub_paths):\n",
    "    sub_id = sub.split('/')[-1].split('_')[0].split('.')[0]\n",
    "    if sub_id in sub_list:\n",
    "        emotion_tseries = pd.read_csv(sub)['happiness']\n",
    "#         print(sub_id)\n",
    "#         print(emotion_tseries)\n",
    "        emotion_tseries_list.append(emotion_tseries)"
   ]
  },
  {
   "cell_type": "code",
   "execution_count": 216,
   "id": "e4666f51",
   "metadata": {
    "scrolled": true
   },
   "outputs": [],
   "source": [
    "df = emotion_tseries_list\n",
    "isc_list = []\n",
    "\n",
    "isc = 1 - spatial.distance.pdist(df, metric = 'correlation')\n",
    "isc_list.append(isc)"
   ]
  },
  {
   "cell_type": "code",
   "execution_count": 217,
   "id": "c47473df",
   "metadata": {},
   "outputs": [
    {
     "data": {
      "image/png": "[encoded data removed]",
      "text/plain": [
       "<Figure size 640x480 with 1 Axes>"
      ]
     },
     "metadata": {},
     "output_type": "display_data"
    }
   ],
   "source": [
    "sns.histplot(data=isc_list, legend = False, palette = ['#ea9999']).set_title('A_happiness')\n",
    "plt.savefig(os.path.join(fpath,'Result','ISC_A_happiness.png'), dpi=300)"
   ]
  },
  {
   "cell_type": "markdown",
   "id": "b4704f98",
   "metadata": {},
   "source": [
    "## Sadness"
   ]
  },
  {
   "cell_type": "code",
   "execution_count": 218,
   "id": "ded68348",
   "metadata": {},
   "outputs": [
    {
     "name": "stderr",
     "output_type": "stream",
     "text": [
      "100%|██████████| 48/48 [00:00<00:00, 248.49it/s]\n"
     ]
    }
   ],
   "source": [
    "emotion_tseries_list = []\n",
    "\n",
    "for sub in tqdm(sub_paths):\n",
    "    sub_id = sub.split('/')[-1].split('_')[0].split('.')[0]\n",
    "    if sub_id in sub_list:\n",
    "        emotion_tseries = pd.read_csv(sub)['sadness']\n",
    "#         print(sub_id)\n",
    "#         print(emotion_tseries)\n",
    "        emotion_tseries_list.append(emotion_tseries)"
   ]
  },
  {
   "cell_type": "code",
   "execution_count": 219,
   "id": "f45e6db8",
   "metadata": {
    "scrolled": true
   },
   "outputs": [],
   "source": [
    "df = emotion_tseries_list\n",
    "isc_list = []\n",
    "\n",
    "isc = 1 - spatial.distance.pdist(df, metric = 'correlation')\n",
    "isc_list.append(isc)"
   ]
  },
  {
   "cell_type": "code",
   "execution_count": 220,
   "id": "f569ef6b",
   "metadata": {},
   "outputs": [
    {
     "data": {
      "image/png": "[encoded data removed]",
      "text/plain": [
       "<Figure size 640x480 with 1 Axes>"
      ]
     },
     "metadata": {},
     "output_type": "display_data"
    }
   ],
   "source": [
    "sns.histplot(data=isc_list, legend = False, palette = ['#ea9999']).set_title('A_sadness')\n",
    "plt.savefig(os.path.join(fpath,'Result','ISC_A_sadness.png'), dpi=300)"
   ]
  },
  {
   "cell_type": "markdown",
   "id": "a35e3062",
   "metadata": {},
   "source": [
    "## Surprise"
   ]
  },
  {
   "cell_type": "code",
   "execution_count": 221,
   "id": "bcf517b9",
   "metadata": {},
   "outputs": [
    {
     "name": "stderr",
     "output_type": "stream",
     "text": [
      "100%|██████████| 48/48 [00:00<00:00, 251.85it/s]\n"
     ]
    }
   ],
   "source": [
    "emotion_tseries_list = []\n",
    "\n",
    "for sub in tqdm(sub_paths):\n",
    "    sub_id = sub.split('/')[-1].split('_')[0].split('.')[0]\n",
    "    if sub_id in sub_list:\n",
    "        emotion_tseries = pd.read_csv(sub)['surprise']\n",
    "#         print(sub_id)\n",
    "#         print(emotion_tseries)\n",
    "        emotion_tseries_list.append(emotion_tseries)"
   ]
  },
  {
   "cell_type": "code",
   "execution_count": 222,
   "id": "ba604043",
   "metadata": {
    "scrolled": true
   },
   "outputs": [],
   "source": [
    "df = emotion_tseries_list\n",
    "isc_list = []\n",
    "\n",
    "isc = 1 - spatial.distance.pdist(df, metric = 'correlation')\n",
    "isc_list.append(isc)"
   ]
  },
  {
   "cell_type": "code",
   "execution_count": 223,
   "id": "0bdef64b",
   "metadata": {},
   "outputs": [
    {
     "data": {
      "image/png": "[encoded data removed]",
      "text/plain": [
       "<Figure size 640x480 with 1 Axes>"
      ]
     },
     "metadata": {},
     "output_type": "display_data"
    }
   ],
   "source": [
    "sns.histplot(data=isc_list, legend = False, palette = ['#ea9999']).set_title('A_surprise')\n",
    "plt.savefig(os.path.join(fpath,'Result','ISC_A_surprise.png'), dpi=300)"
   ]
  }
 ],
 "metadata": {
  "kernelspec": {
   "display_name": "Python 3",
   "language": "python",
   "name": "python3"
  },
  "language_info": {
   "codemirror_mode": {
    "name": "ipython",
    "version": 3
   },
   "file_extension": ".py",
   "mimetype": "text/x-python",
   "name": "python",
   "nbconvert_exporter": "python",
   "pygments_lexer": "ipython3",
   "version": "3.9.12"
  },
  "toc": {
   "base_numbering": 1,
   "nav_menu": {},
   "number_sections": true,
   "sideBar": true,
   "skip_h1_title": false,
   "title_cell": "Table of Contents",
   "title_sidebar": "Contents",
   "toc_cell": false,
   "toc_position": {
    "height": "calc(100% - 180px)",
    "left": "10px",
    "top": "150px",
    "width": "288px"
   },
   "toc_section_display": true,
   "toc_window_display": true
  }
 },
 "nbformat": 4,
 "nbformat_minor": 5
}
